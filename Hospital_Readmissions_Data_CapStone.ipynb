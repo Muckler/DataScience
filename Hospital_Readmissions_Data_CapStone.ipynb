{
 "cells": [
  {
   "cell_type": "markdown",
   "metadata": {},
   "source": [
    "# REDUCING HOSPITAL READMISSIONS WITH HOSPITAL DATA SET:\n",
    "\n",
    "\n",
    "# Source of Data\n",
    "The data set that was gathered was hospital readmissions data for medicare patients and it was obtained from the following government data website: https://catalog.data.gov/datasetq=hospital+readmission&sort=score+desc%2C+name+asc&page=1  Here is a link with a copy of that data after removing patient and location id numbers:https://www.dropbox.com/sh/i7jcc1w9657s5q7/AAA13e0frUczLXEmxhZ6tMPRa?dl=0 \n",
    "Please save the csv file from the above link in the same directory on your computer that you are running the Hospital_Readmissions_Data_Capstone jupyter notebook file so that the notebook can find the file when running the cells. You will also see in the above link a copy of the Tableau file that was used to generate some of the graphs below.\n",
    "\n",
    "## Data Description\n",
    "The initial data set contained unidentifiable encounter ids, unidentifiable patient ids, patient race, patient age, patient age range, patient admission codes, patient discharge codes, patient admission source, number of lab \n",
    "procedures performed on patient while in hospital, number of procedures performed on the patient while in the hospital, \n",
    "number of medications given while patient in hospital, patient glucose, patient A1C levels, prescibed drugs being taken\n",
    "before being admitted, whether the patient had diabetes, and whether the patient was readmitted to the hospital.  The data\n",
    "is useful because it has multiple variables that may influence the total time that the patient spends in the hospital and may influence the probability that the patient may be readmitted to the hospital. Our initial exploration of the data \n",
    "decided to focus on four data sets to ask three analytical questions for initial exploration of the data. The data set was cleaned to focus on the four data sets of interest. \n",
    "\n",
    "## Three Questions To Answer In Data Set\n",
    "• Are there any common trends among the four data factors?\n",
    "\n",
    "• Is there any clustering or outliers of the four data factors:  \n",
    "    1. Time In Hospital\n",
    "    2. Number of Lab Procedures Performed at Hospital\n",
    "    3. Number of Procedures Performed at Hospital\n",
    "    4. Number of Medications Administered at Hospital\n",
    "\n",
    "• What is the median, mean, and standard deviation of the data factors so that we       may have a better understanding of the variance of the data factors and what       is the likelihood that are findings in initial exploration of data are due         to chance? \n",
    "  \n"
   ]
  },
  {
   "cell_type": "code",
   "execution_count": 3,
   "metadata": {
    "collapsed": true
   },
   "outputs": [],
   "source": [
    "import pandas as pd\n",
    "import numpy as np\n",
    "import matplotlib.pyplot as plt\n",
    "%matplotlib inline\n",
    "import statistics\n",
    "import scipy"
   ]
  },
  {
   "cell_type": "code",
   "execution_count": 4,
   "metadata": {
    "collapsed": false
   },
   "outputs": [],
   "source": [
    "hospital_readmit = pd.read_csv('HospitalReAdmissions_1.csv')  \n",
    "df = hospital_readmit\n",
    "   "
   ]
  },
  {
   "cell_type": "markdown",
   "metadata": {},
   "source": [
    "# Initial Data Description\n",
    "\n",
    "## • Time in Hospital:  \n",
    "Patients in the data set spent a mean 4.395 days in the hospital.  The standard deviation for time in hospital was 2.985.  They stayed a minimum of one day and a maximum of 14 days in the hospital.  I will look at trends to see if any of the other variables below correlated with the time in the hospital. \n",
    "\n",
    "## •Number of Lab Procedures:  \n",
    "Patients had a mean of 43.095 lab procedures performed during their hospital stay. The standard deviation for lab procedures was 19.674.   Each patient had at least one lab procedure done and a maximum of 132 lab procedures performed. \n",
    "\n",
    "## •Number of Procedures:  \n",
    "Patients had a mean of 1.339 procedures performed during their hospital stay.  The standard deviation for procedures performed during hospital stay was 1.705.  Patients may have had no procedures performed or a maximum of six procedures performed during their hospital stay.  \n",
    "\n",
    "## • Number of Medications:  \n",
    "Patients were administered a mean of 16.021 medications.  The standard deviation of medications administered was 8.127.  Patients were administered at least one medication and a maximum of 81 medications during their hospital stay.\n",
    "\n",
    "## Would Like Answers to Data Specifics:\n",
    "The data set provided included 101766 patients.  So there were 101766 rows of data for each of the variables described above.  The data provided was provided to the general public and as such it lacked the specifics that I would have liked to have seen if I were working with a specific hospital. \n",
    "\n",
    "For example, we would want to know exactly how a lab procedure is defined: is it each time that a procedure was performed or if for example a patient had blood drawn and multiple tests performed on that single draw of blood would that count as multiple lab procedures?  Also looking at the number of medications, the data set did not specify if an entry for medication administered was for a repeat dose of the same medication or each entry represented a unique medication.  As such, the analysis that follows is more of an exploration of data that one may see in a hospital with medicaid patients and provides insight as to which data sets and relationships you may want to explore more closely at a specific hospital. "
   ]
  },
  {
   "cell_type": "code",
   "execution_count": 5,
   "metadata": {
    "collapsed": false
   },
   "outputs": [
    {
     "data": {
      "text/html": [
       "<div>\n",
       "<table border=\"1\" class=\"dataframe\">\n",
       "  <thead>\n",
       "    <tr style=\"text-align: right;\">\n",
       "      <th></th>\n",
       "      <th>time_in_hospital</th>\n",
       "      <th>num_lab_procedures</th>\n",
       "      <th>num_procedures</th>\n",
       "      <th>num_medications</th>\n",
       "    </tr>\n",
       "  </thead>\n",
       "  <tbody>\n",
       "    <tr>\n",
       "      <th>count</th>\n",
       "      <td>101766.000000</td>\n",
       "      <td>101766.000000</td>\n",
       "      <td>101766.000000</td>\n",
       "      <td>101766.000000</td>\n",
       "    </tr>\n",
       "    <tr>\n",
       "      <th>mean</th>\n",
       "      <td>4.395987</td>\n",
       "      <td>43.095641</td>\n",
       "      <td>1.339730</td>\n",
       "      <td>16.021844</td>\n",
       "    </tr>\n",
       "    <tr>\n",
       "      <th>std</th>\n",
       "      <td>2.985108</td>\n",
       "      <td>19.674362</td>\n",
       "      <td>1.705807</td>\n",
       "      <td>8.127566</td>\n",
       "    </tr>\n",
       "    <tr>\n",
       "      <th>min</th>\n",
       "      <td>1.000000</td>\n",
       "      <td>1.000000</td>\n",
       "      <td>0.000000</td>\n",
       "      <td>1.000000</td>\n",
       "    </tr>\n",
       "    <tr>\n",
       "      <th>25%</th>\n",
       "      <td>2.000000</td>\n",
       "      <td>31.000000</td>\n",
       "      <td>0.000000</td>\n",
       "      <td>10.000000</td>\n",
       "    </tr>\n",
       "    <tr>\n",
       "      <th>50%</th>\n",
       "      <td>4.000000</td>\n",
       "      <td>44.000000</td>\n",
       "      <td>1.000000</td>\n",
       "      <td>15.000000</td>\n",
       "    </tr>\n",
       "    <tr>\n",
       "      <th>75%</th>\n",
       "      <td>6.000000</td>\n",
       "      <td>57.000000</td>\n",
       "      <td>2.000000</td>\n",
       "      <td>20.000000</td>\n",
       "    </tr>\n",
       "    <tr>\n",
       "      <th>max</th>\n",
       "      <td>14.000000</td>\n",
       "      <td>132.000000</td>\n",
       "      <td>6.000000</td>\n",
       "      <td>81.000000</td>\n",
       "    </tr>\n",
       "  </tbody>\n",
       "</table>\n",
       "</div>"
      ],
      "text/plain": [
       "       time_in_hospital  num_lab_procedures  num_procedures  num_medications\n",
       "count     101766.000000       101766.000000   101766.000000    101766.000000\n",
       "mean           4.395987           43.095641        1.339730        16.021844\n",
       "std            2.985108           19.674362        1.705807         8.127566\n",
       "min            1.000000            1.000000        0.000000         1.000000\n",
       "25%            2.000000           31.000000        0.000000        10.000000\n",
       "50%            4.000000           44.000000        1.000000        15.000000\n",
       "75%            6.000000           57.000000        2.000000        20.000000\n",
       "max           14.000000          132.000000        6.000000        81.000000"
      ]
     },
     "execution_count": 5,
     "metadata": {},
     "output_type": "execute_result"
    }
   ],
   "source": [
    "hospital_readmit.describe()     ###An initial look at size, mean, standard deviation, and range of data\n",
    "                                ###Will explore this further below in plots and will refer to it below."
   ]
  },
  {
   "cell_type": "code",
   "execution_count": 6,
   "metadata": {
    "collapsed": false
   },
   "outputs": [
    {
     "data": {
      "text/plain": [
       "Index(['time_in_hospital', 'num_lab_procedures', 'num_procedures',\n",
       "       'num_medications', 'diabetesMed', 'readmitted'],\n",
       "      dtype='object')"
      ]
     },
     "execution_count": 6,
     "metadata": {},
     "output_type": "execute_result"
    }
   ],
   "source": [
    "hospital_readmit.columns"
   ]
  },
  {
   "cell_type": "markdown",
   "metadata": {},
   "source": [
    "![](C:\\Users\\Trader\\Documents\\ThinkfulCourse\\OngoingJupyterWork\\Prep_Cap_Stone\\Time_Out_Of_Hospital.png)"
   ]
  },
  {
   "cell_type": "markdown",
   "metadata": {},
   "source": [
    "# Trends of Number of Procedures, Number  of Medications, and Number of Procedures against Time in Hospital:\n",
    "\n",
    "I took aggregate data and median data for each of the three variables above and plotted these variables in Tableau with a trend line with 95% confidence intervals.  All of the variables showed a positive correlation between the variable and time in hospital.  Number of procedures and number of medications showed the steeper slope on the trend line such that as the number of medications increased or the number of procedures increase, then the hospital stay in days increased. "
   ]
  },
  {
   "cell_type": "markdown",
   "metadata": {},
   "source": [
    "<img src=\"Time_Out_Of_Hospital.png\" width=\"400\" height=\"310\" alt=\"\"/>"
   ]
  },
  {
   "cell_type": "markdown",
   "metadata": {},
   "source": [
    "<img src=\"Trends.png\" width=\"500\" height=\"250\" alt=\"\"/>"
   ]
  },
  {
   "cell_type": "markdown",
   "metadata": {},
   "source": [
    "# Trend of Number of Medications and Hospital Stay\n",
    "\n",
    "Again, I used Tableau to generate a bar graph below. The x axis on both bar graphs represents the Time in Hospital.  The data shows that patients that are staying in the hospital for longer than three days, that those patients are clearly being administered greater numbers of medications. "
   ]
  },
  {
   "cell_type": "markdown",
   "metadata": {},
   "source": [
    "<img src=\"Correlation_Meds_Hosp_Stay.png\" width=\"400\" height=\"250\" alt=\"\"/>"
   ]
  },
  {
   "cell_type": "markdown",
   "metadata": {},
   "source": [
    "# Clusters of Number of Procedures VS Time in Hospital\n",
    "The data below is plotted in a 2 dimensional histogram with the distinct data point centered on the integer value of the data point.  Higher frequency of a data point is in yellow and lower frequency of data point is in dark blue. You can see that the data is clustered where most patients were in the hospital for eight or fewer days that had a total of three or less procedures.  The majority of patients (in yellow) were in the hospital for three days and had one procedure done.  There also appears to be a group of patients that had six procedures done but were in the hospital for only one day. "
   ]
  },
  {
   "cell_type": "code",
   "execution_count": 7,
   "metadata": {
    "collapsed": false
   },
   "outputs": [
    {
     "data": {
      "text/plain": [
       "(array([[ 0.04178612,  0.02228109,  0.01966832,  0.00965272,  0.00867293,\n",
       "          0.0158399 ],\n",
       "        [ 0.05744457,  0.02926661,  0.02420438,  0.00860036,  0.00615089,\n",
       "          0.01063251],\n",
       "        [ 0.0714519 ,  0.03683275,  0.02643611,  0.00921726,  0.00658635,\n",
       "          0.00885437],\n",
       "        [ 0.05724498,  0.03189752,  0.02126501,  0.00863664,  0.00609645,\n",
       "          0.00816489],\n",
       "        [ 0.04084262,  0.02467613,  0.01703741,  0.00727583,  0.00544326,\n",
       "          0.00680408],\n",
       "        [ 0.02917589,  0.0205211 ,  0.01429764,  0.0068948 ,  0.00437275,\n",
       "          0.00667707],\n",
       "        [ 0.02447654,  0.01734586,  0.01170302,  0.00555213,  0.00379214,\n",
       "          0.00620532],\n",
       "        [ 0.01721886,  0.01375331,  0.00985231,  0.00497151,  0.00375585,\n",
       "          0.00584244],\n",
       "        [ 0.01088653,  0.00952571,  0.00703995,  0.0036107 ,  0.00246761,\n",
       "          0.00491708],\n",
       "        [ 0.00816489,  0.00727583,  0.00546141,  0.00304823,  0.00235875,\n",
       "          0.00426389],\n",
       "        [ 0.00576986,  0.00602388,  0.00509852,  0.00263091,  0.00212287,\n",
       "          0.00335668],\n",
       "        [ 0.00498966,  0.00451791,  0.00324781,  0.00228617,  0.00150597,\n",
       "          0.00308452],\n",
       "        [ 0.00413688,  0.00364699,  0.00306637,  0.00177813,  0.00145154,\n",
       "          0.00264905],\n",
       "        [ 0.00275792,  0.00317524,  0.00295751,  0.00168741,  0.00107051,\n",
       "          0.00259462]]),\n",
       " array([  0.5,   1.5,   2.5,   3.5,   4.5,   5.5,   6.5,   7.5,   8.5,\n",
       "          9.5,  10.5,  11.5,  12.5,  13.5,  14.5]),\n",
       " array([ 0.5,  1.5,  2.5,  3.5,  4.5,  5.5,  6.5]),\n",
       " <matplotlib.image.AxesImage at 0xa65f668>)"
      ]
     },
     "execution_count": 7,
     "metadata": {},
     "output_type": "execute_result"
    },
    {
     "data": {
      "image/png": "[encoded data removed]",
      "text/plain": [
       "<matplotlib.figure.Figure at 0xa0eb940>"
      ]
     },
     "metadata": {},
     "output_type": "display_data"
    }
   ],
   "source": [
    "x=hospital_readmit['time_in_hospital']\n",
    "y=hospital_readmit['num_procedures']\n",
    "plt.xlabel('Time in Hospital in Days')\n",
    "plt.ylabel('Number of Procedures')\n",
    "plt.hist2d(x, y, bins=(14, 6), range=([.5,14.5],[.5, 6.5]), normed=True, weights=None,)"
   ]
  },
  {
   "cell_type": "markdown",
   "metadata": {},
   "source": [
    "# Clusters of Number of Lab Procedures VS Time in Hospital:\n",
    "The data below is plotted in a 2 dimensional histogram with the distinct data point centered on the integer value of the data point.  Higher frequency of a data point is in yellow and lower frequency of data point is in dark blue. Looking at the variable of number of lab procedures it appears that most patients had a hospital stay of two days and less than three lab procedures.  Interestingly there also appears to be a group of data that had between 35 and 60 lab procedures done while their hospital stay was less than six days.  So although there was a trend from our line graph above that showed as number of lab procedures increased the hospital stay increased there is also a significant number of patients that are having 35 to 60 lab procedures done but still being dismissed from the hospital in less than six days.  It would be worth exploring any other dependent variables that may be preventing patients that are having 35 to 60 lab procedures performed from staying in the hospital for an extended stay of six to 14 days."
   ]
  },
  {
   "cell_type": "code",
   "execution_count": 8,
   "metadata": {
    "collapsed": false
   },
   "outputs": [
    {
     "data": {
      "text/plain": [
       "(array([[  8.81470778e-03,   3.30860180e-03,   2.82712616e-03,\n",
       "           1.77775619e-03,   1.01233339e-03,   1.24689844e-03,\n",
       "           9.13569153e-04,   1.39504479e-03,   2.65428876e-03,\n",
       "           3.18514651e-03,   2.34565053e-03,   1.91355701e-03,\n",
       "           1.19751632e-03,   9.87642328e-04,   1.19751632e-03,\n",
       "           1.43208138e-03,   1.98763018e-03,   1.99997571e-03,\n",
       "           3.66662214e-03,   2.14812206e-03,   1.91355701e-03,\n",
       "           1.67899196e-03,   1.87652042e-03,   1.53084561e-03,\n",
       "           2.20984971e-03,   3.18514651e-03,   2.17281312e-03,\n",
       "           2.71601640e-03,   4.71599212e-03,   3.40736603e-03,\n",
       "           0.00000000e+00,   3.38267497e-03,   3.71600426e-03,\n",
       "           2.98761804e-03,   4.60488235e-03,   4.82710188e-03,\n",
       "           4.91352058e-03,   4.70364659e-03,   4.58019129e-03,\n",
       "           4.40735389e-03,   3.54316685e-03,   3.66662214e-03,\n",
       "           3.85180508e-03,   4.99993928e-03,   4.55550024e-03,\n",
       "           3.19749204e-03,   3.99995143e-03,   2.91354487e-03,\n",
       "           2.76539852e-03,   2.71601640e-03,   2.46910582e-03,\n",
       "           2.40737817e-03,   1.71602854e-03,   1.81479278e-03,\n",
       "           1.85182936e-03,   1.96293913e-03,   1.65430090e-03,\n",
       "           1.48146349e-03,   1.54319114e-03,   1.35800820e-03,\n",
       "           1.44442690e-03],\n",
       "        [  1.00492607e-02,   2.86416275e-03,   1.48146349e-03,\n",
       "           9.38260211e-04,   9.13569153e-04,   6.91349629e-04,\n",
       "           7.40731746e-04,   8.76532566e-04,   2.90119934e-03,\n",
       "           2.60490664e-03,   2.14812206e-03,   1.48146349e-03,\n",
       "           1.46911796e-03,   9.50605740e-04,   1.32097161e-03,\n",
       "           1.49380902e-03,   1.72837407e-03,   1.56788220e-03,\n",
       "           2.44441476e-03,   2.04935783e-03,   1.99997571e-03,\n",
       "           1.71602854e-03,   1.64195537e-03,   1.87652042e-03,\n",
       "           2.44441476e-03,   2.70367087e-03,   2.27157735e-03,\n",
       "           2.98761804e-03,   3.60489450e-03,   3.69131320e-03,\n",
       "           0.00000000e+00,   3.58020344e-03,   3.25921968e-03,\n",
       "           3.39502050e-03,   4.59253682e-03,   5.08635799e-03,\n",
       "           5.22215881e-03,   5.19746775e-03,   5.25919540e-03,\n",
       "           4.85179294e-03,   5.33326857e-03,   4.91352058e-03,\n",
       "           5.18512222e-03,   6.67893124e-03,   5.33326857e-03,\n",
       "           5.39499622e-03,   4.65426447e-03,   4.70364659e-03,\n",
       "           4.41969942e-03,   4.22217095e-03,   3.58020344e-03,\n",
       "           3.77773190e-03,   3.61724003e-03,   3.23452862e-03,\n",
       "           3.18514651e-03,   3.24687415e-03,   3.11107333e-03,\n",
       "           3.03700016e-03,   2.71601640e-03,   2.35799606e-03,\n",
       "           2.22219524e-03],\n",
       "        [  8.67890696e-03,   2.79008958e-03,   1.60491878e-03,\n",
       "           8.39495979e-04,   6.17276455e-04,   7.16040688e-04,\n",
       "           1.09875209e-03,   8.14804920e-04,   2.20984971e-03,\n",
       "           1.95059360e-03,   1.91355701e-03,   1.20986185e-03,\n",
       "           9.75296799e-04,   9.62951270e-04,   1.18517079e-03,\n",
       "           1.33331714e-03,   1.76541066e-03,   1.72837407e-03,\n",
       "           2.32095947e-03,   2.13577653e-03,   1.86417489e-03,\n",
       "           2.01232124e-03,   2.12343100e-03,   1.62960984e-03,\n",
       "           2.32095947e-03,   2.37034159e-03,   1.72837407e-03,\n",
       "           2.65428876e-03,   2.91354487e-03,   3.22218309e-03,\n",
       "           0.00000000e+00,   2.71601640e-03,   2.91354487e-03,\n",
       "           3.01230910e-03,   3.67896767e-03,   4.45673600e-03,\n",
       "           4.30858965e-03,   4.66661000e-03,   5.08635799e-03,\n",
       "           4.72833764e-03,   4.85179294e-03,   5.29623198e-03,\n",
       "           4.30858965e-03,   6.62954913e-03,   5.79005315e-03,\n",
       "           4.98759376e-03,   5.11104905e-03,   4.77771976e-03,\n",
       "           4.44439047e-03,   4.48142706e-03,   4.18513436e-03,\n",
       "           4.22217095e-03,   4.33328071e-03,   3.82711402e-03,\n",
       "           4.23451648e-03,   3.90118719e-03,   3.92587825e-03,\n",
       "           3.71600426e-03,   3.53082132e-03,   3.50613026e-03,\n",
       "           3.33329286e-03],\n",
       "        [  4.24686201e-03,   1.38269926e-03,   9.25914682e-04,\n",
       "           6.29621984e-04,   3.20983757e-04,   3.70365873e-04,\n",
       "           5.55548809e-04,   4.44439047e-04,   1.23455291e-03,\n",
       "           1.04936997e-03,   7.16040688e-04,   7.03695159e-04,\n",
       "           5.43203280e-04,   4.69130106e-04,   6.91349629e-04,\n",
       "           9.01223624e-04,   1.09875209e-03,   9.99987857e-04,\n",
       "           1.20986185e-03,   1.30862608e-03,   9.13569153e-04,\n",
       "           1.34566267e-03,   1.54319114e-03,   1.17282526e-03,\n",
       "           1.88886595e-03,   1.70368302e-03,   1.28393503e-03,\n",
       "           1.81479278e-03,   1.88886595e-03,   2.23454077e-03,\n",
       "           0.00000000e+00,   2.18515865e-03,   2.07404889e-03,\n",
       "           2.20984971e-03,   2.80243511e-03,   2.98761804e-03,\n",
       "           3.02465463e-03,   3.93822378e-03,   4.30858965e-03,\n",
       "           3.90118719e-03,   4.28389860e-03,   3.90118719e-03,\n",
       "           3.83945955e-03,   5.02463034e-03,   4.20982542e-03,\n",
       "           4.38266283e-03,   3.76538637e-03,   3.83945955e-03,\n",
       "           3.81476849e-03,   4.11106119e-03,   3.55551238e-03,\n",
       "           3.50613026e-03,   3.32094733e-03,   3.23452862e-03,\n",
       "           3.62958555e-03,   3.55551238e-03,   3.87649614e-03,\n",
       "           3.66662214e-03,   3.45674815e-03,   2.99996357e-03,\n",
       "           3.04934569e-03],\n",
       "        [  2.20984971e-03,   9.25914682e-04,   3.95056931e-04,\n",
       "           1.60491878e-04,   2.46910582e-04,   1.48146349e-04,\n",
       "           2.83947169e-04,   2.59256111e-04,   6.91349629e-04,\n",
       "           5.92585397e-04,   5.30857751e-04,   2.83947169e-04,\n",
       "           2.83947169e-04,   2.59256111e-04,   4.69130106e-04,\n",
       "           5.80239868e-04,   7.77768333e-04,   8.14804920e-04,\n",
       "           7.90113862e-04,   6.79004100e-04,   5.67894338e-04,\n",
       "           5.67894338e-04,   1.03702444e-03,   8.39495979e-04,\n",
       "           1.02467892e-03,   1.09875209e-03,   1.01233339e-03,\n",
       "           9.62951270e-04,   1.04936997e-03,   1.30862608e-03,\n",
       "           0.00000000e+00,   1.40739032e-03,   1.53084561e-03,\n",
       "           1.25924397e-03,   1.38269926e-03,   1.77775619e-03,\n",
       "           2.13577653e-03,   2.19750418e-03,   2.38268712e-03,\n",
       "           2.18515865e-03,   2.71601640e-03,   2.43206923e-03,\n",
       "           2.79008958e-03,   3.34563839e-03,   3.53082132e-03,\n",
       "           3.14810992e-03,   2.80243511e-03,   2.95058145e-03,\n",
       "           2.74070746e-03,   2.72836193e-03,   2.38268712e-03,\n",
       "           2.86416275e-03,   2.54317899e-03,   2.88885381e-03,\n",
       "           2.54317899e-03,   2.69132534e-03,   2.51848794e-03,\n",
       "           2.44441476e-03,   2.51848794e-03,   2.37034159e-03,\n",
       "           2.50614241e-03],\n",
       "        [  1.91355701e-03,   5.92585397e-04,   3.20983757e-04,\n",
       "           9.87642328e-05,   1.60491878e-04,   8.64187037e-05,\n",
       "           1.48146349e-04,   2.34565053e-04,   6.04930926e-04,\n",
       "           1.97528466e-04,   1.97528466e-04,   1.60491878e-04,\n",
       "           1.60491878e-04,   1.72837407e-04,   2.09873995e-04,\n",
       "           3.08638227e-04,   5.18512222e-04,   5.55548809e-04,\n",
       "           4.93821164e-04,   4.44439047e-04,   3.70365873e-04,\n",
       "           3.45674815e-04,   6.04930926e-04,   6.04930926e-04,\n",
       "           7.65422804e-04,   6.79004100e-04,   5.55548809e-04,\n",
       "           5.80239868e-04,   7.28386217e-04,   1.02467892e-03,\n",
       "           0.00000000e+00,   9.75296799e-04,   9.62951270e-04,\n",
       "           1.16047974e-03,   1.24689844e-03,   1.45677243e-03,\n",
       "           1.53084561e-03,   1.44442690e-03,   1.66664643e-03,\n",
       "           1.53084561e-03,   2.03701230e-03,   1.77775619e-03,\n",
       "           1.48146349e-03,   2.46910582e-03,   2.12343100e-03,\n",
       "           2.18515865e-03,   1.96293913e-03,   2.16046759e-03,\n",
       "           2.27157735e-03,   1.88886595e-03,   2.09873995e-03,\n",
       "           1.77775619e-03,   1.98763018e-03,   2.01232124e-03,\n",
       "           2.02466677e-03,   2.07404889e-03,   2.03701230e-03,\n",
       "           1.90121148e-03,   1.81479278e-03,   1.88886595e-03,\n",
       "           1.76541066e-03],\n",
       "        [  1.14813421e-03,   4.19747989e-04,   1.85182936e-04,\n",
       "           2.46910582e-05,   9.87642328e-05,   7.40731746e-05,\n",
       "           8.64187037e-05,   1.97528466e-04,   3.82711402e-04,\n",
       "           1.97528466e-04,   1.85182936e-04,   1.23455291e-04,\n",
       "           1.11109762e-04,   1.11109762e-04,   1.11109762e-04,\n",
       "           1.97528466e-04,   2.96292698e-04,   4.32093518e-04,\n",
       "           3.33329286e-04,   1.72837407e-04,   1.85182936e-04,\n",
       "           3.45674815e-04,   5.18512222e-04,   4.32093518e-04,\n",
       "           5.67894338e-04,   6.79004100e-04,   4.32093518e-04,\n",
       "           3.70365873e-04,   5.18512222e-04,   7.28386217e-04,\n",
       "           0.00000000e+00,   6.17276455e-04,   7.77768333e-04,\n",
       "           4.69130106e-04,   1.03702444e-03,   8.51841508e-04,\n",
       "           9.99987857e-04,   9.99987857e-04,   1.34566267e-03,\n",
       "           1.27158950e-03,   1.35800820e-03,   1.17282526e-03,\n",
       "           1.38269926e-03,   1.74071960e-03,   1.54319114e-03,\n",
       "           1.88886595e-03,   1.37035373e-03,   1.50615455e-03,\n",
       "           1.48146349e-03,   1.74071960e-03,   1.45677243e-03,\n",
       "           1.51850008e-03,   1.49380902e-03,   1.41973585e-03,\n",
       "           1.74071960e-03,   1.61726431e-03,   1.81479278e-03,\n",
       "           1.61726431e-03,   1.71602854e-03,   1.51850008e-03,\n",
       "           1.54319114e-03],\n",
       "        [  8.76532566e-04,   3.82711402e-04,   1.97528466e-04,\n",
       "           1.23455291e-04,   4.93821164e-05,   3.70365873e-05,\n",
       "           8.64187037e-05,   1.11109762e-04,   2.34565053e-04,\n",
       "           1.35800820e-04,   9.87642328e-05,   8.64187037e-05,\n",
       "           6.17276455e-05,   6.17276455e-05,   1.35800820e-04,\n",
       "           1.72837407e-04,   3.33329286e-04,   2.34565053e-04,\n",
       "           1.85182936e-04,   1.48146349e-04,   1.97528466e-04,\n",
       "           2.46910582e-04,   3.58020344e-04,   3.95056931e-04,\n",
       "           4.19747989e-04,   2.46910582e-04,   2.22219524e-04,\n",
       "           3.08638227e-04,   3.58020344e-04,   3.58020344e-04,\n",
       "           0.00000000e+00,   3.95056931e-04,   4.19747989e-04,\n",
       "           6.04930926e-04,   4.81475635e-04,   7.90113862e-04,\n",
       "           7.53077275e-04,   8.27150449e-04,   8.51841508e-04,\n",
       "           9.38260211e-04,   8.14804920e-04,   8.76532566e-04,\n",
       "           9.99987857e-04,   1.12344315e-03,   1.19751632e-03,\n",
       "           1.28393503e-03,   8.76532566e-04,   9.25914682e-04,\n",
       "           1.01233339e-03,   1.03702444e-03,   9.25914682e-04,\n",
       "           1.23455291e-03,   1.11109762e-03,   1.04936997e-03,\n",
       "           1.32097161e-03,   1.25924397e-03,   1.27158950e-03,\n",
       "           1.02467892e-03,   1.18517079e-03,   1.25924397e-03,\n",
       "           1.33331714e-03],\n",
       "        [  5.30857751e-04,   2.34565053e-04,   7.40731746e-05,\n",
       "           2.46910582e-05,   0.00000000e+00,   3.70365873e-05,\n",
       "           1.23455291e-05,   6.17276455e-05,   2.09873995e-04,\n",
       "           1.11109762e-04,   1.35800820e-04,   7.40731746e-05,\n",
       "           6.17276455e-05,   2.46910582e-05,   1.35800820e-04,\n",
       "           4.93821164e-05,   1.85182936e-04,   1.60491878e-04,\n",
       "           1.72837407e-04,   1.11109762e-04,   6.17276455e-05,\n",
       "           7.40731746e-05,   1.85182936e-04,   1.35800820e-04,\n",
       "           3.82711402e-04,   2.22219524e-04,   2.09873995e-04,\n",
       "           9.87642328e-05,   1.48146349e-04,   2.59256111e-04,\n",
       "           0.00000000e+00,   3.33329286e-04,   1.97528466e-04,\n",
       "           2.34565053e-04,   2.71601640e-04,   4.07402460e-04,\n",
       "           5.06166693e-04,   5.30857751e-04,   4.07402460e-04,\n",
       "           6.29621984e-04,   7.77768333e-04,   5.55548809e-04,\n",
       "           7.40731746e-04,   8.27150449e-04,   6.29621984e-04,\n",
       "           8.02459391e-04,   7.16040688e-04,   6.29621984e-04,\n",
       "           7.03695159e-04,   7.28386217e-04,   8.88878095e-04,\n",
       "           7.40731746e-04,   8.02459391e-04,   6.29621984e-04,\n",
       "           9.13569153e-04,   4.81475635e-04,   7.90113862e-04,\n",
       "           6.29621984e-04,   7.77768333e-04,   8.02459391e-04,\n",
       "           7.53077275e-04],\n",
       "        [  3.95056931e-04,   2.46910582e-04,   1.23455291e-05,\n",
       "           1.23455291e-05,   4.93821164e-05,   3.70365873e-05,\n",
       "           1.23455291e-05,   6.17276455e-05,   1.35800820e-04,\n",
       "           7.40731746e-05,   9.87642328e-05,   3.70365873e-05,\n",
       "           2.46910582e-05,   3.70365873e-05,   9.87642328e-05,\n",
       "           9.87642328e-05,   1.35800820e-04,   1.23455291e-04,\n",
       "           1.11109762e-04,   6.17276455e-05,   9.87642328e-05,\n",
       "           7.40731746e-05,   9.87642328e-05,   1.72837407e-04,\n",
       "           2.71601640e-04,   2.09873995e-04,   1.48146349e-04,\n",
       "           1.11109762e-04,   1.11109762e-04,   1.72837407e-04,\n",
       "           0.00000000e+00,   1.85182936e-04,   1.97528466e-04,\n",
       "           2.46910582e-04,   1.72837407e-04,   2.46910582e-04,\n",
       "           2.22219524e-04,   3.08638227e-04,   4.93821164e-04,\n",
       "           4.32093518e-04,   3.82711402e-04,   4.93821164e-04,\n",
       "           4.56784577e-04,   5.30857751e-04,   5.92585397e-04,\n",
       "           7.03695159e-04,   5.06166693e-04,   4.69130106e-04,\n",
       "           5.06166693e-04,   6.04930926e-04,   6.29621984e-04,\n",
       "           5.18512222e-04,   7.53077275e-04,   7.28386217e-04,\n",
       "           6.17276455e-04,   5.67894338e-04,   4.56784577e-04,\n",
       "           7.03695159e-04,   6.17276455e-04,   6.29621984e-04,\n",
       "           5.43203280e-04],\n",
       "        [  1.72837407e-04,   1.60491878e-04,   3.70365873e-05,\n",
       "           0.00000000e+00,   1.23455291e-05,   1.23455291e-05,\n",
       "           1.23455291e-05,   0.00000000e+00,   8.64187037e-05,\n",
       "           9.87642328e-05,   6.17276455e-05,   4.93821164e-05,\n",
       "           4.93821164e-05,   1.23455291e-05,   4.93821164e-05,\n",
       "           7.40731746e-05,   1.60491878e-04,   2.22219524e-04,\n",
       "           1.35800820e-04,   3.70365873e-05,   4.93821164e-05,\n",
       "           7.40731746e-05,   1.23455291e-04,   1.60491878e-04,\n",
       "           2.34565053e-04,   1.85182936e-04,   7.40731746e-05,\n",
       "           1.11109762e-04,   1.60491878e-04,   1.35800820e-04,\n",
       "           0.00000000e+00,   1.85182936e-04,   1.23455291e-04,\n",
       "           1.11109762e-04,   8.64187037e-05,   2.83947169e-04,\n",
       "           1.72837407e-04,   3.08638227e-04,   3.58020344e-04,\n",
       "           3.33329286e-04,   3.20983757e-04,   3.33329286e-04,\n",
       "           3.70365873e-04,   6.04930926e-04,   4.19747989e-04,\n",
       "           4.07402460e-04,   4.93821164e-04,   4.07402460e-04,\n",
       "           4.32093518e-04,   5.30857751e-04,   3.95056931e-04,\n",
       "           4.07402460e-04,   3.20983757e-04,   4.81475635e-04,\n",
       "           4.44439047e-04,   3.45674815e-04,   4.44439047e-04,\n",
       "           3.82711402e-04,   5.30857751e-04,   4.44439047e-04,\n",
       "           5.55548809e-04],\n",
       "        [  2.34565053e-04,   9.87642328e-05,   9.87642328e-05,\n",
       "           3.70365873e-05,   2.46910582e-05,   1.23455291e-05,\n",
       "           1.23455291e-05,   2.46910582e-05,   6.17276455e-05,\n",
       "           9.87642328e-05,   1.23455291e-05,   8.64187037e-05,\n",
       "           0.00000000e+00,   4.93821164e-05,   2.46910582e-05,\n",
       "           2.46910582e-05,   1.23455291e-04,   3.70365873e-05,\n",
       "           4.93821164e-05,   4.93821164e-05,   1.23455291e-05,\n",
       "           3.70365873e-05,   7.40731746e-05,   1.35800820e-04,\n",
       "           2.09873995e-04,   1.23455291e-04,   6.17276455e-05,\n",
       "           8.64187037e-05,   1.11109762e-04,   9.87642328e-05,\n",
       "           0.00000000e+00,   9.87642328e-05,   1.23455291e-04,\n",
       "           1.23455291e-04,   1.72837407e-04,   1.23455291e-04,\n",
       "           1.97528466e-04,   1.97528466e-04,   2.46910582e-04,\n",
       "           2.96292698e-04,   2.46910582e-04,   2.71601640e-04,\n",
       "           2.22219524e-04,   2.71601640e-04,   3.08638227e-04,\n",
       "           3.58020344e-04,   2.59256111e-04,   3.08638227e-04,\n",
       "           3.33329286e-04,   2.83947169e-04,   4.19747989e-04,\n",
       "           3.33329286e-04,   2.09873995e-04,   4.32093518e-04,\n",
       "           2.83947169e-04,   3.33329286e-04,   3.08638227e-04,\n",
       "           3.70365873e-04,   2.83947169e-04,   3.70365873e-04,\n",
       "           3.45674815e-04],\n",
       "        [  1.97528466e-04,   8.64187037e-05,   3.70365873e-05,\n",
       "           0.00000000e+00,   1.23455291e-05,   0.00000000e+00,\n",
       "           1.23455291e-05,   2.46910582e-05,   3.70365873e-05,\n",
       "           4.93821164e-05,   3.70365873e-05,   0.00000000e+00,\n",
       "           3.70365873e-05,   2.46910582e-05,   3.70365873e-05,\n",
       "           2.46910582e-05,   4.93821164e-05,   8.64187037e-05,\n",
       "           1.11109762e-04,   2.46910582e-05,   7.40731746e-05,\n",
       "           0.00000000e+00,   6.17276455e-05,   6.17276455e-05,\n",
       "           1.23455291e-04,   7.40731746e-05,   6.17276455e-05,\n",
       "           4.93821164e-05,   8.64187037e-05,   3.70365873e-05,\n",
       "           0.00000000e+00,   7.40731746e-05,   9.87642328e-05,\n",
       "           1.11109762e-04,   9.87642328e-05,   1.48146349e-04,\n",
       "           9.87642328e-05,   1.85182936e-04,   2.34565053e-04,\n",
       "           2.09873995e-04,   2.83947169e-04,   2.34565053e-04,\n",
       "           2.34565053e-04,   1.85182936e-04,   3.20983757e-04,\n",
       "           2.71601640e-04,   3.33329286e-04,   2.46910582e-04,\n",
       "           1.97528466e-04,   2.22219524e-04,   3.70365873e-04,\n",
       "           2.34565053e-04,   2.34565053e-04,   2.96292698e-04,\n",
       "           3.45674815e-04,   3.33329286e-04,   2.46910582e-04,\n",
       "           2.59256111e-04,   1.72837407e-04,   2.96292698e-04,\n",
       "           2.46910582e-04],\n",
       "        [  1.35800820e-04,   9.87642328e-05,   4.93821164e-05,\n",
       "           0.00000000e+00,   1.23455291e-05,   1.23455291e-05,\n",
       "           1.23455291e-05,   1.23455291e-05,   7.40731746e-05,\n",
       "           0.00000000e+00,   2.46910582e-05,   3.70365873e-05,\n",
       "           1.23455291e-05,   2.46910582e-05,   2.46910582e-05,\n",
       "           2.46910582e-05,   1.23455291e-05,   4.93821164e-05,\n",
       "           3.70365873e-05,   4.93821164e-05,   3.70365873e-05,\n",
       "           4.93821164e-05,   7.40731746e-05,   3.70365873e-05,\n",
       "           7.40731746e-05,   2.46910582e-05,   2.46910582e-05,\n",
       "           8.64187037e-05,   1.48146349e-04,   3.70365873e-05,\n",
       "           0.00000000e+00,   4.93821164e-05,   9.87642328e-05,\n",
       "           8.64187037e-05,   7.40731746e-05,   9.87642328e-05,\n",
       "           1.35800820e-04,   1.60491878e-04,   9.87642328e-05,\n",
       "           2.22219524e-04,   2.22219524e-04,   2.09873995e-04,\n",
       "           2.22219524e-04,   1.85182936e-04,   2.59256111e-04,\n",
       "           3.20983757e-04,   1.72837407e-04,   1.60491878e-04,\n",
       "           2.83947169e-04,   2.09873995e-04,   3.95056931e-04,\n",
       "           2.22219524e-04,   2.46910582e-04,   1.97528466e-04,\n",
       "           1.72837407e-04,   2.96292698e-04,   2.46910582e-04,\n",
       "           3.33329286e-04,   2.22219524e-04,   2.46910582e-04,\n",
       "           2.34565053e-04]]),\n",
       " array([  0.5,   1.5,   2.5,   3.5,   4.5,   5.5,   6.5,   7.5,   8.5,\n",
       "          9.5,  10.5,  11.5,  12.5,  13.5,  14.5]),\n",
       " array([  0.5       ,   1.48360656,   2.46721311,   3.45081967,\n",
       "          4.43442623,   5.41803279,   6.40163934,   7.3852459 ,\n",
       "          8.36885246,   9.35245902,  10.33606557,  11.31967213,\n",
       "         12.30327869,  13.28688525,  14.2704918 ,  15.25409836,\n",
       "         16.23770492,  17.22131148,  18.20491803,  19.18852459,\n",
       "         20.17213115,  21.1557377 ,  22.13934426,  23.12295082,\n",
       "         24.10655738,  25.09016393,  26.07377049,  27.05737705,\n",
       "         28.04098361,  29.02459016,  30.00819672,  30.99180328,\n",
       "         31.97540984,  32.95901639,  33.94262295,  34.92622951,\n",
       "         35.90983607,  36.89344262,  37.87704918,  38.86065574,\n",
       "         39.8442623 ,  40.82786885,  41.81147541,  42.79508197,\n",
       "         43.77868852,  44.76229508,  45.74590164,  46.7295082 ,\n",
       "         47.71311475,  48.69672131,  49.68032787,  50.66393443,\n",
       "         51.64754098,  52.63114754,  53.6147541 ,  54.59836066,\n",
       "         55.58196721,  56.56557377,  57.54918033,  58.53278689,\n",
       "         59.51639344,  60.5       ]),\n",
       " <matplotlib.image.AxesImage at 0xa730eb8>)"
      ]
     },
     "execution_count": 8,
     "metadata": {},
     "output_type": "execute_result"
    },
    {
     "data": {
      "image/png": "[encoded data removed]",
      "text/plain": [
       "<matplotlib.figure.Figure at 0xa69da20>"
      ]
     },
     "metadata": {},
     "output_type": "display_data"
    }
   ],
   "source": [
    "a=hospital_readmit['time_in_hospital']\n",
    "b=hospital_readmit['num_lab_procedures']\n",
    "plt.xlabel('Time in Hospital in Days')\n",
    "plt.ylabel('Number of Lab Procedures')\n",
    "plt.hist2d(a, b, bins=(14, 61), range=([.5,14.5],[.5, 60.5]), normed=True, weights=None,)"
   ]
  },
  {
   "cell_type": "markdown",
   "metadata": {},
   "source": [
    "# Clusters of Number of Medications VS Time in Hospital:\n",
    "The data below is plotted in a 2 dimensional histogram with the distinct data point centered on the integer value of the data point.  Higher frequency of a data point is in yellow and lower frequency of data point is in dark blue. This data set mirrors what I saw in the trend line for the same data set when we plotted it in Tableau above.  In the plot below, most patients were in the hospital between one and four days.  It also appears that as the number of medications increased that there was also a correlation with some but not all patients that were extending their stay in the hospital.  Again, I would want to discuss with hospital staff what dependent variables may be accounting for why some patients are only in the hospital for two to four days but other patients on the same number of medications are in the hospital for a longer period of time.  "
   ]
  },
  {
   "cell_type": "code",
   "execution_count": 9,
   "metadata": {
    "collapsed": false
   },
   "outputs": [
    {
     "data": {
      "text/plain": [
       "(array([[  1.42996718e-03,   2.32994653e-03,   4.01990774e-03,\n",
       "           5.65987010e-03,   7.46982856e-03,   8.37980768e-03,\n",
       "           9.50978174e-03,   1.08397512e-02,   1.14597370e-02,\n",
       "           1.07997521e-02,   1.02797641e-02,   9.60977945e-03,\n",
       "           9.11979069e-03,   6.95984027e-03,   6.57984899e-03,\n",
       "           5.55987240e-03,   4.71989167e-03,   3.53991876e-03,\n",
       "           3.15992748e-03,   2.28994744e-03,   1.87995685e-03,\n",
       "           1.66996167e-03,   1.21997200e-03,   8.19981181e-04,\n",
       "           6.79984394e-04,   4.49989672e-04,   4.09990590e-04,\n",
       "           3.19992656e-04,   2.79993574e-04,   1.39996787e-04,\n",
       "           0.00000000e+00,   9.99977050e-05,   9.99977050e-05,\n",
       "           1.09997475e-04,   4.99988525e-05,   2.99993115e-05,\n",
       "           9.99977050e-06,   2.99993115e-05,   9.99977050e-06,\n",
       "           9.99977050e-06,   1.99995410e-05,   9.99977050e-06,\n",
       "           9.99977050e-06,   0.00000000e+00,   0.00000000e+00,\n",
       "           0.00000000e+00,   0.00000000e+00,   0.00000000e+00,\n",
       "           0.00000000e+00,   0.00000000e+00,   0.00000000e+00,\n",
       "           0.00000000e+00,   0.00000000e+00,   0.00000000e+00,\n",
       "           0.00000000e+00,   0.00000000e+00,   0.00000000e+00,\n",
       "           0.00000000e+00,   0.00000000e+00,   0.00000000e+00,\n",
       "           0.00000000e+00],\n",
       "        [  5.99986230e-04,   1.22997177e-03,   2.53994171e-03,\n",
       "           4.05990682e-03,   5.36987676e-03,   7.51982741e-03,\n",
       "           9.25978748e-03,   1.14397374e-02,   1.23697161e-02,\n",
       "           1.32096968e-02,   1.32496959e-02,   1.30197012e-02,\n",
       "           1.22097198e-02,   1.06697551e-02,   9.73977646e-03,\n",
       "           8.80979781e-03,   7.62982489e-03,   6.11985954e-03,\n",
       "           4.65989305e-03,   4.18990384e-03,   3.06992954e-03,\n",
       "           2.53994171e-03,   1.96995479e-03,   1.71996053e-03,\n",
       "           1.13997384e-03,   8.79979804e-04,   7.19983476e-04,\n",
       "           5.49987377e-04,   4.59989443e-04,   3.59991738e-04,\n",
       "           0.00000000e+00,   2.49994262e-04,   1.49996557e-04,\n",
       "           1.09997475e-04,   1.49996557e-04,   1.19997246e-04,\n",
       "           1.99995410e-05,   3.99990820e-05,   9.99977050e-06,\n",
       "           0.00000000e+00,   9.99977050e-06,   1.99995410e-05,\n",
       "           1.99995410e-05,   9.99977050e-06,   9.99977050e-06,\n",
       "           0.00000000e+00,   0.00000000e+00,   0.00000000e+00,\n",
       "           9.99977050e-06,   0.00000000e+00,   0.00000000e+00,\n",
       "           0.00000000e+00,   0.00000000e+00,   0.00000000e+00,\n",
       "           0.00000000e+00,   0.00000000e+00,   0.00000000e+00,\n",
       "           0.00000000e+00,   0.00000000e+00,   0.00000000e+00,\n",
       "           0.00000000e+00],\n",
       "        [  2.69993803e-04,   6.49985082e-04,   1.24997131e-03,\n",
       "           2.21994905e-03,   3.46992036e-03,   5.19988066e-03,\n",
       "           7.00983912e-03,   8.82979735e-03,   9.96977119e-03,\n",
       "           1.07897524e-02,   1.19797251e-02,   1.25397122e-02,\n",
       "           1.24997131e-02,   1.16597324e-02,   1.14197379e-02,\n",
       "           1.04897593e-02,   9.29978656e-03,   8.29980951e-03,\n",
       "           7.13983613e-03,   6.55984945e-03,   5.18988089e-03,\n",
       "           4.10990567e-03,   3.11992840e-03,   2.57994079e-03,\n",
       "           2.07995226e-03,   1.93995548e-03,   1.53996466e-03,\n",
       "           1.29997016e-03,   9.69977738e-04,   7.49982787e-04,\n",
       "           0.00000000e+00,   5.49987377e-04,   4.29990131e-04,\n",
       "           3.69991508e-04,   1.59996328e-04,   3.29992426e-04,\n",
       "           1.19997246e-04,   8.99979345e-05,   9.99977050e-06,\n",
       "           8.99979345e-05,   6.99983935e-05,   3.99990820e-05,\n",
       "           2.99993115e-05,   2.99993115e-05,   3.99990820e-05,\n",
       "           1.99995410e-05,   9.99977050e-06,   9.99977050e-06,\n",
       "           0.00000000e+00,   9.99977050e-06,   0.00000000e+00,\n",
       "           0.00000000e+00,   0.00000000e+00,   0.00000000e+00,\n",
       "           9.99977050e-06,   0.00000000e+00,   0.00000000e+00,\n",
       "           0.00000000e+00,   0.00000000e+00,   9.99977050e-06,\n",
       "           0.00000000e+00],\n",
       "        [  1.09997475e-04,   2.99993115e-04,   4.89988754e-04,\n",
       "           1.11997430e-03,   1.77995915e-03,   2.41994446e-03,\n",
       "           3.66991577e-03,   5.26987905e-03,   6.14985886e-03,\n",
       "           6.68984646e-03,   8.39980722e-03,   9.04979230e-03,\n",
       "           9.20978863e-03,   9.19978886e-03,   9.78977532e-03,\n",
       "           8.74979918e-03,   7.82982030e-03,   6.89984164e-03,\n",
       "           6.66984692e-03,   5.27987882e-03,   5.06988364e-03,\n",
       "           4.11990544e-03,   3.49991967e-03,   2.99993115e-03,\n",
       "           2.64993918e-03,   2.18994974e-03,   1.88995662e-03,\n",
       "           1.53996466e-03,   1.04997590e-03,   1.00997682e-03,\n",
       "           0.00000000e+00,   7.89981869e-04,   5.99986230e-04,\n",
       "           4.99988525e-04,   3.79991279e-04,   3.19992656e-04,\n",
       "           2.49994262e-04,   1.29997016e-04,   9.99977050e-05,\n",
       "           1.69996098e-04,   1.29997016e-04,   1.39996787e-04,\n",
       "           8.99979345e-05,   8.99979345e-05,   6.99983935e-05,\n",
       "           2.99993115e-05,   3.99990820e-05,   3.99990820e-05,\n",
       "           1.99995410e-05,   3.99990820e-05,   1.99995410e-05,\n",
       "           4.99988525e-05,   3.99990820e-05,   9.99977050e-06,\n",
       "           4.99988525e-05,   0.00000000e+00,   9.99977050e-06,\n",
       "           9.99977050e-06,   1.99995410e-05,   0.00000000e+00,\n",
       "           0.00000000e+00],\n",
       "        [  8.99979345e-05,   6.99983935e-05,   2.59994033e-04,\n",
       "           3.69991508e-04,   8.39980722e-04,   1.38996810e-03,\n",
       "           1.99995410e-03,   2.81993528e-03,   3.36992266e-03,\n",
       "           4.37989948e-03,   4.72989145e-03,   5.29987836e-03,\n",
       "           5.77986735e-03,   5.82986620e-03,   6.69984623e-03,\n",
       "           6.26985610e-03,   5.55987240e-03,   5.85986551e-03,\n",
       "           5.23987974e-03,   4.68989236e-03,   3.99990820e-03,\n",
       "           3.74991394e-03,   3.35992289e-03,   2.57994079e-03,\n",
       "           2.58994056e-03,   2.12995112e-03,   1.54996443e-03,\n",
       "           1.35996879e-03,   1.19997246e-03,   7.59982558e-04,\n",
       "           0.00000000e+00,   6.49985082e-04,   5.39987607e-04,\n",
       "           4.69989213e-04,   4.09990590e-04,   2.79993574e-04,\n",
       "           2.49994262e-04,   2.69993803e-04,   2.59994033e-04,\n",
       "           1.89995639e-04,   1.59996328e-04,   1.99995410e-04,\n",
       "           8.99979345e-05,   1.39996787e-04,   6.99983935e-05,\n",
       "           6.99983935e-05,   8.99979345e-05,   4.99988525e-05,\n",
       "           3.99990820e-05,   1.09997475e-04,   6.99983935e-05,\n",
       "           7.99981640e-05,   8.99979345e-05,   4.99988525e-05,\n",
       "           2.99993115e-05,   6.99983935e-05,   3.99990820e-05,\n",
       "           9.99977050e-06,   9.99977050e-06,   9.99977050e-06,\n",
       "           9.99977050e-06],\n",
       "        [  5.99986230e-05,   5.99986230e-05,   1.39996787e-04,\n",
       "           2.59994033e-04,   5.19988066e-04,   8.59980263e-04,\n",
       "           1.26997085e-03,   1.66996167e-03,   1.93995548e-03,\n",
       "           2.75993666e-03,   3.30992403e-03,   3.46992036e-03,\n",
       "           3.89991049e-03,   3.83991187e-03,   4.31990085e-03,\n",
       "           4.62989374e-03,   4.51989626e-03,   4.30990108e-03,\n",
       "           3.88991072e-03,   3.78991302e-03,   3.62991669e-03,\n",
       "           2.94993230e-03,   2.80993551e-03,   2.37994538e-03,\n",
       "           1.97995456e-03,   1.88995662e-03,   1.54996443e-03,\n",
       "           1.35996879e-03,   1.13997384e-03,   9.09979115e-04,\n",
       "           0.00000000e+00,   6.69984623e-04,   6.99983935e-04,\n",
       "           4.89988754e-04,   4.19990361e-04,   3.89991049e-04,\n",
       "           2.39994492e-04,   3.89991049e-04,   1.69996098e-04,\n",
       "           2.09995180e-04,   1.29997016e-04,   1.49996557e-04,\n",
       "           1.89995639e-04,   1.49996557e-04,   8.99979345e-05,\n",
       "           6.99983935e-05,   8.99979345e-05,   1.09997475e-04,\n",
       "           6.99983935e-05,   7.99981640e-05,   4.99988525e-05,\n",
       "           4.99988525e-05,   2.99993115e-05,   2.99993115e-05,\n",
       "           1.99995410e-05,   6.99983935e-05,   6.99983935e-05,\n",
       "           2.99993115e-05,   2.99993115e-05,   9.99977050e-06,\n",
       "           2.99993115e-05],\n",
       "        [  2.99993115e-05,   2.99993115e-05,   6.99983935e-05,\n",
       "           1.09997475e-04,   3.29992426e-04,   4.29990131e-04,\n",
       "           6.79984394e-04,   1.10997453e-03,   1.26997085e-03,\n",
       "           1.71996053e-03,   2.13995089e-03,   2.36994561e-03,\n",
       "           2.86993413e-03,   2.94993230e-03,   3.21992610e-03,\n",
       "           3.21992610e-03,   2.97993161e-03,   2.96993184e-03,\n",
       "           3.02993046e-03,   3.20992633e-03,   2.81993528e-03,\n",
       "           2.56994102e-03,   2.37994538e-03,   2.14995066e-03,\n",
       "           1.90995616e-03,   1.51996512e-03,   1.39996787e-03,\n",
       "           1.28997039e-03,   9.99977050e-04,   8.19981181e-04,\n",
       "           0.00000000e+00,   8.09981410e-04,   5.69986918e-04,\n",
       "           5.89986459e-04,   5.09988295e-04,   4.79988984e-04,\n",
       "           3.49991967e-04,   3.19992656e-04,   3.19992656e-04,\n",
       "           2.19994951e-04,   2.39994492e-04,   1.09997475e-04,\n",
       "           8.99979345e-05,   1.39996787e-04,   1.09997475e-04,\n",
       "           5.99986230e-05,   1.29997016e-04,   1.09997475e-04,\n",
       "           7.99981640e-05,   7.99981640e-05,   8.99979345e-05,\n",
       "           4.99988525e-05,   4.99988525e-05,   4.99988525e-05,\n",
       "           1.99995410e-05,   6.99983935e-05,   6.99983935e-05,\n",
       "           3.99990820e-05,   1.99995410e-05,   4.99988525e-05,\n",
       "           5.99986230e-05],\n",
       "        [  1.99995410e-05,   0.00000000e+00,   9.99977050e-05,\n",
       "           1.19997246e-04,   1.69996098e-04,   2.29994721e-04,\n",
       "           4.69989213e-04,   5.09988295e-04,   9.69977738e-04,\n",
       "           1.21997200e-03,   1.36996856e-03,   1.61996282e-03,\n",
       "           1.78995892e-03,   1.90995616e-03,   2.15995043e-03,\n",
       "           2.33994630e-03,   2.27994767e-03,   2.16995020e-03,\n",
       "           2.05995272e-03,   2.20994928e-03,   2.07995226e-03,\n",
       "           1.97995456e-03,   1.50996535e-03,   1.67996144e-03,\n",
       "           1.49996557e-03,   1.47996603e-03,   1.52996489e-03,\n",
       "           9.99977050e-04,   8.79979804e-04,   7.69982328e-04,\n",
       "           0.00000000e+00,   6.49985082e-04,   7.09983705e-04,\n",
       "           5.39987607e-04,   4.69989213e-04,   3.79991279e-04,\n",
       "           2.89993344e-04,   3.19992656e-04,   2.09995180e-04,\n",
       "           2.59994033e-04,   2.79993574e-04,   1.39996787e-04,\n",
       "           1.09997475e-04,   1.49996557e-04,   1.39996787e-04,\n",
       "           1.29997016e-04,   8.99979345e-05,   7.99981640e-05,\n",
       "           5.99986230e-05,   7.99981640e-05,   6.99983935e-05,\n",
       "           2.99993115e-05,   6.99983935e-05,   5.99986230e-05,\n",
       "           6.99983935e-05,   1.99995410e-05,   5.99986230e-05,\n",
       "           3.99990820e-05,   3.99990820e-05,   1.99995410e-05,\n",
       "           4.99988525e-05],\n",
       "        [  0.00000000e+00,   1.99995410e-05,   2.99993115e-05,\n",
       "           7.99981640e-05,   7.99981640e-05,   1.99995410e-04,\n",
       "           2.39994492e-04,   3.09992885e-04,   4.59989443e-04,\n",
       "           6.19985771e-04,   8.29980951e-04,   9.19978886e-04,\n",
       "           9.59977968e-04,   1.27997062e-03,   1.37996833e-03,\n",
       "           1.36996856e-03,   1.36996856e-03,   1.63996236e-03,\n",
       "           1.58996351e-03,   1.45996649e-03,   1.48996580e-03,\n",
       "           1.39996787e-03,   1.09997475e-03,   1.31996971e-03,\n",
       "           1.25997108e-03,   9.09979115e-04,   8.49980492e-04,\n",
       "           9.09979115e-04,   6.79984394e-04,   7.69982328e-04,\n",
       "           0.00000000e+00,   4.89988754e-04,   5.39987607e-04,\n",
       "           3.99990820e-04,   4.29990131e-04,   2.99993115e-04,\n",
       "           2.89993344e-04,   2.19994951e-04,   2.39994492e-04,\n",
       "           2.19994951e-04,   1.09997475e-04,   8.99979345e-05,\n",
       "           1.29997016e-04,   8.99979345e-05,   6.99983935e-05,\n",
       "           1.29997016e-04,   1.09997475e-04,   7.99981640e-05,\n",
       "           8.99979345e-05,   7.99981640e-05,   3.99990820e-05,\n",
       "           9.99977050e-06,   3.99990820e-05,   1.99995410e-05,\n",
       "           9.99977050e-06,   3.99990820e-05,   2.99993115e-05,\n",
       "           2.99993115e-05,   1.99995410e-05,   0.00000000e+00,\n",
       "           1.99995410e-05],\n",
       "        [  0.00000000e+00,   9.99977050e-06,   2.99993115e-05,\n",
       "           4.99988525e-05,   3.99990820e-05,   1.49996557e-04,\n",
       "           2.29994721e-04,   2.09995180e-04,   3.69991508e-04,\n",
       "           4.89988754e-04,   5.19988066e-04,   6.19985771e-04,\n",
       "           7.69982328e-04,   9.89977279e-04,   6.99983935e-04,\n",
       "           9.09979115e-04,   9.59977968e-04,   1.12997407e-03,\n",
       "           1.02997636e-03,   9.59977968e-04,   9.99977050e-04,\n",
       "           1.11997430e-03,   1.06997544e-03,   9.69977738e-04,\n",
       "           8.69980033e-04,   7.49982787e-04,   7.29983246e-04,\n",
       "           8.79979804e-04,   6.69984623e-04,   6.19985771e-04,\n",
       "           0.00000000e+00,   5.09988295e-04,   5.49987377e-04,\n",
       "           3.59991738e-04,   3.39992197e-04,   2.89993344e-04,\n",
       "           2.69993803e-04,   3.29992426e-04,   1.79995869e-04,\n",
       "           1.99995410e-04,   9.99977050e-05,   2.49994262e-04,\n",
       "           2.09995180e-04,   6.99983935e-05,   1.19997246e-04,\n",
       "           1.09997475e-04,   2.99993115e-05,   5.99986230e-05,\n",
       "           4.99988525e-05,   9.99977050e-06,   4.99988525e-05,\n",
       "           5.99986230e-05,   8.99979345e-05,   4.99988525e-05,\n",
       "           2.99993115e-05,   9.99977050e-06,   1.99995410e-05,\n",
       "           2.99993115e-05,   9.99977050e-06,   3.99990820e-05,\n",
       "           1.99995410e-05],\n",
       "        [  0.00000000e+00,   0.00000000e+00,   1.99995410e-05,\n",
       "           4.99988525e-05,   4.99988525e-05,   7.99981640e-05,\n",
       "           1.99995410e-04,   2.19994951e-04,   3.29992426e-04,\n",
       "           2.09995180e-04,   4.79988984e-04,   5.99986230e-04,\n",
       "           5.39987607e-04,   5.79986689e-04,   6.39985312e-04,\n",
       "           6.69984623e-04,   5.69986918e-04,   8.49980492e-04,\n",
       "           8.99979345e-04,   8.59980263e-04,   6.19985771e-04,\n",
       "           9.39978427e-04,   8.39980722e-04,   6.79984394e-04,\n",
       "           7.19983476e-04,   5.79986689e-04,   5.79986689e-04,\n",
       "           6.59984853e-04,   5.29987836e-04,   3.89991049e-04,\n",
       "           0.00000000e+00,   4.79988984e-04,   3.69991508e-04,\n",
       "           3.89991049e-04,   4.29990131e-04,   2.99993115e-04,\n",
       "           2.59994033e-04,   2.59994033e-04,   2.29994721e-04,\n",
       "           1.99995410e-04,   1.59996328e-04,   9.99977050e-05,\n",
       "           7.99981640e-05,   1.19997246e-04,   1.09997475e-04,\n",
       "           6.99983935e-05,   4.99988525e-05,   3.99990820e-05,\n",
       "           4.99988525e-05,   3.99990820e-05,   5.99986230e-05,\n",
       "           2.99993115e-05,   2.99993115e-05,   4.99988525e-05,\n",
       "           1.99995410e-05,   9.99977050e-06,   2.99993115e-05,\n",
       "           3.99990820e-05,   1.99995410e-05,   9.99977050e-06,\n",
       "           9.99977050e-06],\n",
       "        [  9.99977050e-06,   0.00000000e+00,   1.99995410e-05,\n",
       "           2.99993115e-05,   1.99995410e-05,   3.99990820e-05,\n",
       "           1.49996557e-04,   1.09997475e-04,   2.19994951e-04,\n",
       "           2.49994262e-04,   2.49994262e-04,   3.79991279e-04,\n",
       "           4.59989443e-04,   3.99990820e-04,   4.99988525e-04,\n",
       "           5.59987148e-04,   6.09986000e-04,   7.29983246e-04,\n",
       "           5.99986230e-04,   5.79986689e-04,   5.19988066e-04,\n",
       "           5.79986689e-04,   4.99988525e-04,   5.09988295e-04,\n",
       "           5.69986918e-04,   6.59984853e-04,   6.19985771e-04,\n",
       "           4.59989443e-04,   4.79988984e-04,   4.39989902e-04,\n",
       "           0.00000000e+00,   4.69989213e-04,   3.99990820e-04,\n",
       "           2.69993803e-04,   2.59994033e-04,   2.29994721e-04,\n",
       "           1.39996787e-04,   1.89995639e-04,   2.09995180e-04,\n",
       "           1.49996557e-04,   8.99979345e-05,   7.99981640e-05,\n",
       "           5.99986230e-05,   9.99977050e-05,   2.99993115e-05,\n",
       "           8.99979345e-05,   9.99977050e-05,   2.99993115e-05,\n",
       "           2.99993115e-05,   1.99995410e-05,   9.99977050e-06,\n",
       "           1.99995410e-05,   2.99993115e-05,   2.99993115e-05,\n",
       "           2.99993115e-05,   9.99977050e-06,   1.99995410e-05,\n",
       "           1.99995410e-05,   3.99990820e-05,   0.00000000e+00,\n",
       "           0.00000000e+00],\n",
       "        [  0.00000000e+00,   0.00000000e+00,   2.99993115e-05,\n",
       "           1.99995410e-05,   1.99995410e-05,   4.99988525e-05,\n",
       "           8.99979345e-05,   7.99981640e-05,   1.59996328e-04,\n",
       "           1.89995639e-04,   2.49994262e-04,   3.69991508e-04,\n",
       "           4.19990361e-04,   3.79991279e-04,   4.29990131e-04,\n",
       "           3.79991279e-04,   4.39989902e-04,   3.99990820e-04,\n",
       "           4.69989213e-04,   4.89988754e-04,   4.99988525e-04,\n",
       "           5.19988066e-04,   4.19990361e-04,   3.69991508e-04,\n",
       "           3.99990820e-04,   3.99990820e-04,   5.79986689e-04,\n",
       "           3.79991279e-04,   3.39992197e-04,   3.29992426e-04,\n",
       "           0.00000000e+00,   3.99990820e-04,   3.19992656e-04,\n",
       "           2.29994721e-04,   2.79993574e-04,   1.79995869e-04,\n",
       "           2.09995180e-04,   2.09995180e-04,   1.79995869e-04,\n",
       "           8.99979345e-05,   1.49996557e-04,   4.99988525e-05,\n",
       "           7.99981640e-05,   7.99981640e-05,   7.99981640e-05,\n",
       "           5.99986230e-05,   7.99981640e-05,   5.99986230e-05,\n",
       "           3.99990820e-05,   2.99993115e-05,   3.99990820e-05,\n",
       "           2.99993115e-05,   4.99988525e-05,   1.99995410e-05,\n",
       "           9.99977050e-06,   0.00000000e+00,   9.99977050e-06,\n",
       "           0.00000000e+00,   2.99993115e-05,   1.99995410e-05,\n",
       "           9.99977050e-06],\n",
       "        [  0.00000000e+00,   0.00000000e+00,   0.00000000e+00,\n",
       "           1.99995410e-05,   9.99977050e-06,   3.99990820e-05,\n",
       "           5.99986230e-05,   1.09997475e-04,   8.99979345e-05,\n",
       "           1.29997016e-04,   1.59996328e-04,   1.69996098e-04,\n",
       "           3.29992426e-04,   4.19990361e-04,   3.39992197e-04,\n",
       "           3.39992197e-04,   4.19990361e-04,   3.09992885e-04,\n",
       "           3.39992197e-04,   3.39992197e-04,   4.29990131e-04,\n",
       "           4.29990131e-04,   4.59989443e-04,   3.29992426e-04,\n",
       "           5.29987836e-04,   2.99993115e-04,   3.69991508e-04,\n",
       "           3.19992656e-04,   3.19992656e-04,   4.19990361e-04,\n",
       "           0.00000000e+00,   2.99993115e-04,   2.49994262e-04,\n",
       "           2.09995180e-04,   2.39994492e-04,   2.49994262e-04,\n",
       "           1.69996098e-04,   1.29997016e-04,   1.49996557e-04,\n",
       "           7.99981640e-05,   1.39996787e-04,   7.99981640e-05,\n",
       "           8.99979345e-05,   9.99977050e-05,   5.99986230e-05,\n",
       "           3.99990820e-05,   9.99977050e-05,   6.99983935e-05,\n",
       "           5.99986230e-05,   2.99993115e-05,   4.99988525e-05,\n",
       "           1.99995410e-05,   1.99995410e-05,   2.99993115e-05,\n",
       "           2.99993115e-05,   1.99995410e-05,   9.99977050e-06,\n",
       "           9.99977050e-06,   9.99977050e-06,   2.99993115e-05,\n",
       "           1.99995410e-05]]),\n",
       " array([  0.5,   1.5,   2.5,   3.5,   4.5,   5.5,   6.5,   7.5,   8.5,\n",
       "          9.5,  10.5,  11.5,  12.5,  13.5,  14.5]),\n",
       " array([  0.5       ,   1.48360656,   2.46721311,   3.45081967,\n",
       "          4.43442623,   5.41803279,   6.40163934,   7.3852459 ,\n",
       "          8.36885246,   9.35245902,  10.33606557,  11.31967213,\n",
       "         12.30327869,  13.28688525,  14.2704918 ,  15.25409836,\n",
       "         16.23770492,  17.22131148,  18.20491803,  19.18852459,\n",
       "         20.17213115,  21.1557377 ,  22.13934426,  23.12295082,\n",
       "         24.10655738,  25.09016393,  26.07377049,  27.05737705,\n",
       "         28.04098361,  29.02459016,  30.00819672,  30.99180328,\n",
       "         31.97540984,  32.95901639,  33.94262295,  34.92622951,\n",
       "         35.90983607,  36.89344262,  37.87704918,  38.86065574,\n",
       "         39.8442623 ,  40.82786885,  41.81147541,  42.79508197,\n",
       "         43.77868852,  44.76229508,  45.74590164,  46.7295082 ,\n",
       "         47.71311475,  48.69672131,  49.68032787,  50.66393443,\n",
       "         51.64754098,  52.63114754,  53.6147541 ,  54.59836066,\n",
       "         55.58196721,  56.56557377,  57.54918033,  58.53278689,\n",
       "         59.51639344,  60.5       ]),\n",
       " <matplotlib.image.AxesImage at 0xa7c7978>)"
      ]
     },
     "execution_count": 9,
     "metadata": {},
     "output_type": "execute_result"
    },
    {
     "data": {
      "image/png": "[encoded data removed]",
      "text/plain": [
       "<matplotlib.figure.Figure at 0xa6eecc0>"
      ]
     },
     "metadata": {},
     "output_type": "display_data"
    }
   ],
   "source": [
    "c=hospital_readmit['time_in_hospital']\n",
    "d=hospital_readmit['num_medications']\n",
    "plt.xlabel('Time in Hospital in Days')\n",
    "plt.ylabel('Number of Medications')\n",
    "plt.hist2d(c, d, bins=(14, 61), range=([.5,14.5],[.5, 60.5]), normed=True, weights=None,)"
   ]
  },
  {
   "cell_type": "markdown",
   "metadata": {},
   "source": [
    "# Looking for Outliers:\n",
    "In the box plots below, I utilized the plotting capabilities in Tableu to look at where the median data points were for each variable and where in the different quartiles the data was located, and the outer extent of data points for each of the variables.  \n",
    "\n",
    "## Number of Medications:  \n",
    "Here, the majority of patients, the Q1 to Q3 range, were between about 15 and 22 medications. There was a group of patients that had  25 medications, and in Tableau, it showed that these patients had a hospital stay of 14 days. So althought the data is clustering between 15 and 22 as the number of medications, there are patients that have a higher number of medications and these patients are having longer hospital stays.  Please see the attached Tableau file for the details on this data.\n",
    "\n",
    "## Number of Procedures:\n",
    "Here there is more clustering of the data and it looks like most patients had between one and two procedures performed during their hospital stay. Although, those patients that had two procedures, Tableu, showed that their hospital stay was more than double the hospital stay of those patients that had one procedure.  Please see the attached Tableau file. \n",
    "\n",
    "## Number of Lab Procedures:\n",
    "Here the majority of patients had between 45 and 57 lab procedures completed.  On the lower end of the box plot or the \"wisker\" patients with the shortest hospital stay of one to three days had between 35 and 42 lab procedures as opposed to patients at the other end of the box plot who had 51 to 57 lab procedures had hospital stays of seven to 12 days.  Here I would want to talk with hospital directors to explore dependent variables that could influence the number of lab procedures being done for the patient.  Are lab procedures being ordered with a corresponding diagnostic code and associated with an ordering provider? "
   ]
  },
  {
   "cell_type": "markdown",
   "metadata": {},
   "source": [
    "<img src=\"Box_Plot_Hospital_Data.png\" width=\"250\" height=\"170\" alt=\"\"/>"
   ]
  },
  {
   "cell_type": "markdown",
   "metadata": {},
   "source": [
    "# Histogram: \"Number of Lab Procedures Performed.\" \n",
    "Here the data has a normalized pattern that is clustered around the mean. The mean appears relativle close to the data center cluster.   The data has a moderate variance and although normalized it does appear slightly skewed toward 0-20 lab procedures performed while at the hospital.\n",
    "Lastly the standard deviation is within about one half the value of the mean which again supports a moderate distribution\n",
    "of the data set. "
   ]
  },
  {
   "cell_type": "code",
   "execution_count": 10,
   "metadata": {
    "collapsed": false,
    "scrolled": true
   },
   "outputs": [
    {
     "data": {
      "image/png": "[encoded data removed]",
      "text/plain": [
       "<matplotlib.figure.Figure at 0xa77bf28>"
      ]
     },
     "metadata": {},
     "output_type": "display_data"
    }
   ],
   "source": [
    "hospital_readmit['num_lab_procedures'].hist()\n",
    "plt.axvline(hospital_readmit['num_lab_procedures'].mean(), color='r', linestyle = 'dashed', linewidth = 4)\n",
    "plt.axvline(hospital_readmit['num_lab_procedures'].mean() + hospital_readmit['num_lab_procedures'].std(), color='k', linestyle = 'dashed', linewidth = 2)\n",
    "plt.axvline(hospital_readmit['num_lab_procedures'].mean() - hospital_readmit['num_lab_procedures'].std(), color='k', linestyle = 'dashed', linewidth = 2)\n",
    "plt.title(\"Histogram\")\n",
    "plt.xlabel('Number of Lab Procedures Performed')\n",
    "plt.ylabel('Frequency of Data Point')\n",
    "plt.show()"
   ]
  },
  {
   "cell_type": "markdown",
   "metadata": {},
   "source": [
    "# Histogram: \"Time in Hospital, In Days.\" \n",
    "Here the data does not appear normalized.  The data\n",
    "is somewhat clustered around the mean but definately skewed toward less than six days in the hospital.  The mean is \n",
    "informative but not as informative as in a normalized data distribution.  Also, visually here the standard deviation \n",
    "appears almost as large as the mean itself which indicates a broader distribution of the data compared to our last data\n",
    "set. Here, I may want to pull a data set that is clustered around 1 to 3 days in the hospital to see if there are any \n",
    "trends there.  Lastly, this data set has a wider variance as compared to our last data set. Decay does not have a normalized data distribution. This is where I would look at exponential or log based functions with a time element. "
   ]
  },
  {
   "cell_type": "code",
   "execution_count": 11,
   "metadata": {
    "collapsed": false
   },
   "outputs": [
    {
     "data": {
      "image/png": "[encoded data removed]",
      "text/plain": [
       "<matplotlib.figure.Figure at 0xa86dcc0>"
      ]
     },
     "metadata": {},
     "output_type": "display_data"
    }
   ],
   "source": [
    "hospital_readmit['time_in_hospital'].hist()\n",
    "plt.axvline(hospital_readmit['time_in_hospital'].mean(), color='r', linestyle = 'dashed', linewidth = 4)\n",
    "plt.axvline(hospital_readmit['time_in_hospital'].mean() + hospital_readmit['time_in_hospital'].std(), color='k', linestyle = 'dashed', linewidth = 2)\n",
    "plt.axvline(hospital_readmit['time_in_hospital'].mean() - hospital_readmit['time_in_hospital'].std(), color='k', linestyle = 'dashed', linewidth = 2)\n",
    "plt.title(\"Histogram\")\n",
    "plt.xlabel('Time in Hospital, in Days')\n",
    "plt.ylabel('Frequency of Data Point')\n",
    "plt.show()"
   ]
  },
  {
   "cell_type": "markdown",
   "metadata": {},
   "source": [
    "# Histogram: \"Number of Procedures Performed\" \n",
    "Here the mean is not centered in the cluster of data \n",
    "performed.  Visually, the standard deviation also appears to be larger than the mean value.  Both of these representations \n",
    "of the mean and standard deviation indicate that the mean is not a measure of central tendence and the standard deviation\n",
    "here may not describe the variance as accurately as a normalized data distribution.  The data here appears skewed toward\n",
    "no procedures being performed and for patients that had a procedure performed, many patients had only one procedure \n",
    "performed.  There also appears to be a moderate variance in the data as well.  "
   ]
  },
  {
   "cell_type": "code",
   "execution_count": 12,
   "metadata": {
    "collapsed": false
   },
   "outputs": [
    {
     "data": {
      "image/png": "[encoded data removed]",
      "text/plain": [
       "<matplotlib.figure.Figure at 0xa783208>"
      ]
     },
     "metadata": {},
     "output_type": "display_data"
    }
   ],
   "source": [
    "hospital_readmit['num_procedures'].hist()\n",
    "plt.axvline(hospital_readmit['num_procedures'].mean(), color='r', linestyle = 'dashed', linewidth = 4)\n",
    "plt.axvline(hospital_readmit['num_procedures'].mean() + hospital_readmit['num_procedures'].std(), color='k', linestyle = 'dashed', linewidth = 2)\n",
    "plt.axvline(hospital_readmit['num_procedures'].mean() - hospital_readmit['num_procedures'].std(), color='k', linestyle = 'dashed', linewidth = 2)\n",
    "plt.title(\"Histogram\")\n",
    "plt.xlabel('Number of Procedures Performed')\n",
    "plt.ylabel('Frequency of Data Point')\n",
    "plt.show()"
   ]
  },
  {
   "cell_type": "markdown",
   "metadata": {},
   "source": [
    "# Histogram: \"Number of Medications\"\n",
    "In our last histogram, I looked at \"Number of Medications Administered.\"  Here the bulk of the data does appear around \n",
    "the mean with a centralized tendency.  The data has a normalized appearance with a peak of around 10-16 medications\n",
    "administered.  The data does taper off considerably as the number of medications is increased. Visually, the standard \n",
    "deviation and clustering of the data indicates  data with a lower variance.  Here we may find this data more meaningful\n",
    "in exploring how number of medications administered correlated with length of hospital stay or days in hospital.  For \n",
    "further study it would be good to also see how this variable, \"number of medicatons administered\"  correlates to \n",
    "hospital readmission rates.  Seeing as how clustered the data was around the mean, I was curious what percent of the data\n",
    "was indeed within +- one standard deviation of the mean, so I calculated that value with a for loop below.  Use a built-in function vs a loop where possible for better speed and performance to bring faster math calculations. "
   ]
  },
  {
   "cell_type": "code",
   "execution_count": 13,
   "metadata": {
    "collapsed": false
   },
   "outputs": [
    {
     "data": {
      "image/png": "[encoded data removed]",
      "text/plain": [
       "<matplotlib.figure.Figure at 0xa938b70>"
      ]
     },
     "metadata": {},
     "output_type": "display_data"
    }
   ],
   "source": [
    "hospital_readmit['num_medications'].hist()\n",
    "plt.axvline(hospital_readmit['num_medications'].mean(), color='r', linestyle = 'dashed', linewidth = 4)\n",
    "plt.axvline(hospital_readmit['num_medications'].mean() + hospital_readmit['num_medications'].std(), color='k', linestyle = 'dashed', linewidth = 2)\n",
    "plt.axvline(hospital_readmit['num_medications'].mean() - hospital_readmit['num_medications'].std(), color='k', linestyle = 'dashed', linewidth = 2)\n",
    "plt.title(\"Histogram\")\n",
    "plt.xlabel('Number of Medications Administered')\n",
    "plt.ylabel('Frequency of Data Point')\n",
    "plt.show()"
   ]
  },
  {
   "cell_type": "markdown",
   "metadata": {},
   "source": [
    "# Calculating % Of Number of Medications Clustered Around the Mean From Histogram Above:\n",
    "In the for loop below, I wanted to iterate through each data element and see if that value fell within plus or minus one\n",
    "standard deviation of the mean.  I wanted an exact number of data that fell within this normalized pattern.  We know \n",
    "that if 68% of data is within plus or minus the data is normalized, but I wanted to know exactly how normalized and \n",
    "quantify that value.  Our loop gives us a value of about 76% of the data falling within plus or minus one standard \n",
    "deviation of the mean, which confirms a clustered data set centered on the mean in a normalized distribution.  "
   ]
  },
  {
   "cell_type": "code",
   "execution_count": 14,
   "metadata": {
    "collapsed": true
   },
   "outputs": [],
   "source": [
    "### utilizing counter to calculate percent of variables within standard deviation \n",
    "counter_outside_stand_dev_med_count = 0; \n",
    "counter_med_count = 0;                    "
   ]
  },
  {
   "cell_type": "code",
   "execution_count": 15,
   "metadata": {
    "collapsed": false
   },
   "outputs": [],
   "source": [
    "###loop tests if data within standard deviation\n",
    "for ea_med_count in hospital_readmit['num_medications']: \n",
    "    if ea_med_count <= hospital_readmit['num_medications'].mean() + hospital_readmit['num_medications'].std() and ea_med_count >= hospital_readmit['num_medications'].mean() - hospital_readmit['num_medications'].std():\n",
    "        counter_med_count += +1                            \n",
    "    else:                                                   \n",
    "        ###if data within standard deviation then increasing our counter\n",
    "        counter_med_count = counter_med_count\n"
   ]
  },
  {
   "cell_type": "code",
   "execution_count": 16,
   "metadata": {
    "collapsed": false
   },
   "outputs": [
    {
     "data": {
      "text/plain": [
       "0.7592909223119706"
      ]
     },
     "execution_count": 16,
     "metadata": {},
     "output_type": "execute_result"
    }
   ],
   "source": [
    "total_items = len(hospital_readmit['num_medications'])\n",
    "percent_in_stand_deviation = counter_med_count / total_items     \n",
    "percent_in_stand_deviation \n",
    "### This number is the percent of our data that is within +-1 standard deviation\n",
    "###  of the mean"
   ]
  },
  {
   "cell_type": "markdown",
   "metadata": {},
   "source": [
    "# 76% = Number of Medications Data within +-1 Standard Deviation of Mean"
   ]
  },
  {
   "cell_type": "markdown",
   "metadata": {},
   "source": []
  },
  {
   "cell_type": "markdown",
   "metadata": {},
   "source": [
    "# Checking The Data Integrity After Calculations:\n",
    "In the table below, I wanted to query the data set after performing all of these operations on the data set and just \n",
    "check that I haven't changed the data.  Comparing this query to the one performed at the beginning of the notebook, we\n",
    "can see that the data remains unchanged after our plotting and statistical calculations.  Risk of changing data is pretty low.  "
   ]
  },
  {
   "cell_type": "code",
   "execution_count": 17,
   "metadata": {
    "collapsed": false
   },
   "outputs": [
    {
     "data": {
      "text/html": [
       "<div>\n",
       "<table border=\"1\" class=\"dataframe\">\n",
       "  <thead>\n",
       "    <tr style=\"text-align: right;\">\n",
       "      <th></th>\n",
       "      <th>time_in_hospital</th>\n",
       "      <th>num_lab_procedures</th>\n",
       "      <th>num_procedures</th>\n",
       "      <th>num_medications</th>\n",
       "    </tr>\n",
       "  </thead>\n",
       "  <tbody>\n",
       "    <tr>\n",
       "      <th>count</th>\n",
       "      <td>101766.000000</td>\n",
       "      <td>101766.000000</td>\n",
       "      <td>101766.000000</td>\n",
       "      <td>101766.000000</td>\n",
       "    </tr>\n",
       "    <tr>\n",
       "      <th>mean</th>\n",
       "      <td>4.395987</td>\n",
       "      <td>43.095641</td>\n",
       "      <td>1.339730</td>\n",
       "      <td>16.021844</td>\n",
       "    </tr>\n",
       "    <tr>\n",
       "      <th>std</th>\n",
       "      <td>2.985108</td>\n",
       "      <td>19.674362</td>\n",
       "      <td>1.705807</td>\n",
       "      <td>8.127566</td>\n",
       "    </tr>\n",
       "    <tr>\n",
       "      <th>min</th>\n",
       "      <td>1.000000</td>\n",
       "      <td>1.000000</td>\n",
       "      <td>0.000000</td>\n",
       "      <td>1.000000</td>\n",
       "    </tr>\n",
       "    <tr>\n",
       "      <th>25%</th>\n",
       "      <td>2.000000</td>\n",
       "      <td>31.000000</td>\n",
       "      <td>0.000000</td>\n",
       "      <td>10.000000</td>\n",
       "    </tr>\n",
       "    <tr>\n",
       "      <th>50%</th>\n",
       "      <td>4.000000</td>\n",
       "      <td>44.000000</td>\n",
       "      <td>1.000000</td>\n",
       "      <td>15.000000</td>\n",
       "    </tr>\n",
       "    <tr>\n",
       "      <th>75%</th>\n",
       "      <td>6.000000</td>\n",
       "      <td>57.000000</td>\n",
       "      <td>2.000000</td>\n",
       "      <td>20.000000</td>\n",
       "    </tr>\n",
       "    <tr>\n",
       "      <th>max</th>\n",
       "      <td>14.000000</td>\n",
       "      <td>132.000000</td>\n",
       "      <td>6.000000</td>\n",
       "      <td>81.000000</td>\n",
       "    </tr>\n",
       "  </tbody>\n",
       "</table>\n",
       "</div>"
      ],
      "text/plain": [
       "       time_in_hospital  num_lab_procedures  num_procedures  num_medications\n",
       "count     101766.000000       101766.000000   101766.000000    101766.000000\n",
       "mean           4.395987           43.095641        1.339730        16.021844\n",
       "std            2.985108           19.674362        1.705807         8.127566\n",
       "min            1.000000            1.000000        0.000000         1.000000\n",
       "25%            2.000000           31.000000        0.000000        10.000000\n",
       "50%            4.000000           44.000000        1.000000        15.000000\n",
       "75%            6.000000           57.000000        2.000000        20.000000\n",
       "max           14.000000          132.000000        6.000000        81.000000"
      ]
     },
     "execution_count": 17,
     "metadata": {},
     "output_type": "execute_result"
    }
   ],
   "source": [
    "### verifying integrity of our data set after all of our calculations and compares to initial\n",
    "### queery of our data set at the begining\n",
    "hospital_readmit.describe()  "
   ]
  },
  {
   "cell_type": "markdown",
   "metadata": {},
   "source": [
    "# Subset of Patients: At Least One Procedure Done:\n",
    "From the discussion above, I decide to break out a subset of patients from the larger data set to include patients that \n",
    "had at least one procedure done. Here, I was hoping to see a pattern develop and perhaps a normalized distribution of \n",
    "data within the sub population. Initially, I tried to filter the data by creating a new dataframe and then creating a \n",
    "loop.  Within the loop, I was going to add the patient to the new sample data if they had had a procedure done.  There \n",
    "were two problems with that approach:  firstly pandas did not like me creating the dataframe within the loop, as each \n",
    "time the loop iterated a new dataframe was created (slow and not good), secondly even if I created the new dataframe outside of the loop, but then tried to add rows to the new dataframe I ran into errors and slow processing, and thirdly the loop was just plain slow in general in the amount of time it took the kernel to iterate through the data.  The solution that I settled on below was a built in filter within pandas that executed the operation much faster and without errors.  So, I created my new data sets below:"
   ]
  },
  {
   "cell_type": "code",
   "execution_count": 18,
   "metadata": {
    "collapsed": false
   },
   "outputs": [],
   "source": [
    "sample_had_procedure = hospital_readmit[hospital_readmit['num_procedures'] > 0]   ###Pulling data:patients with > 0 procedures\n",
    "sample_not_have_procedure = hospital_readmit[hospital_readmit['num_procedures'] < 1]###Patients no procedures performed"
   ]
  },
  {
   "cell_type": "markdown",
   "metadata": {
    "collapsed": false
   },
   "source": [
    "# What Changed in Patients That Had At Least One Procedure Done?:\n",
    "In our new sample of patients that had at least one procedure done, we can see that it did shift the mean number of \n",
    "procedures performed from 1.339730 to 2.473763.  Also the mean time in hospital shifted from 4.395987 to 4.909823. Also\n",
    "the standard deviation for number of procedures performed shifted from 1.339730 to 2.473763 and the standard deviation\n",
    "for time in hospital shifted from 2.985108 to 3.193537.  So in our subset we see a greater variance than in the original\n",
    "population.  Lets look at some plots below to get some more insight."
   ]
  },
  {
   "cell_type": "code",
   "execution_count": 19,
   "metadata": {
    "collapsed": false
   },
   "outputs": [
    {
     "data": {
      "text/html": [
       "<div>\n",
       "<table border=\"1\" class=\"dataframe\">\n",
       "  <thead>\n",
       "    <tr style=\"text-align: right;\">\n",
       "      <th></th>\n",
       "      <th>time_in_hospital</th>\n",
       "      <th>num_lab_procedures</th>\n",
       "      <th>num_procedures</th>\n",
       "      <th>num_medications</th>\n",
       "    </tr>\n",
       "  </thead>\n",
       "  <tbody>\n",
       "    <tr>\n",
       "      <th>count</th>\n",
       "      <td>55114.000000</td>\n",
       "      <td>55114.000000</td>\n",
       "      <td>55114.000000</td>\n",
       "      <td>55114.000000</td>\n",
       "    </tr>\n",
       "    <tr>\n",
       "      <th>mean</th>\n",
       "      <td>4.909823</td>\n",
       "      <td>43.239848</td>\n",
       "      <td>2.473763</td>\n",
       "      <td>18.491672</td>\n",
       "    </tr>\n",
       "    <tr>\n",
       "      <th>std</th>\n",
       "      <td>3.193537</td>\n",
       "      <td>20.202428</td>\n",
       "      <td>1.602330</td>\n",
       "      <td>8.939283</td>\n",
       "    </tr>\n",
       "    <tr>\n",
       "      <th>min</th>\n",
       "      <td>1.000000</td>\n",
       "      <td>1.000000</td>\n",
       "      <td>1.000000</td>\n",
       "      <td>1.000000</td>\n",
       "    </tr>\n",
       "    <tr>\n",
       "      <th>25%</th>\n",
       "      <td>2.000000</td>\n",
       "      <td>31.000000</td>\n",
       "      <td>1.000000</td>\n",
       "      <td>12.000000</td>\n",
       "    </tr>\n",
       "    <tr>\n",
       "      <th>50%</th>\n",
       "      <td>4.000000</td>\n",
       "      <td>44.000000</td>\n",
       "      <td>2.000000</td>\n",
       "      <td>17.000000</td>\n",
       "    </tr>\n",
       "    <tr>\n",
       "      <th>75%</th>\n",
       "      <td>7.000000</td>\n",
       "      <td>57.000000</td>\n",
       "      <td>3.000000</td>\n",
       "      <td>23.000000</td>\n",
       "    </tr>\n",
       "    <tr>\n",
       "      <th>max</th>\n",
       "      <td>14.000000</td>\n",
       "      <td>132.000000</td>\n",
       "      <td>6.000000</td>\n",
       "      <td>81.000000</td>\n",
       "    </tr>\n",
       "  </tbody>\n",
       "</table>\n",
       "</div>"
      ],
      "text/plain": [
       "       time_in_hospital  num_lab_procedures  num_procedures  num_medications\n",
       "count      55114.000000        55114.000000    55114.000000     55114.000000\n",
       "mean           4.909823           43.239848        2.473763        18.491672\n",
       "std            3.193537           20.202428        1.602330         8.939283\n",
       "min            1.000000            1.000000        1.000000         1.000000\n",
       "25%            2.000000           31.000000        1.000000        12.000000\n",
       "50%            4.000000           44.000000        2.000000        17.000000\n",
       "75%            7.000000           57.000000        3.000000        23.000000\n",
       "max           14.000000          132.000000        6.000000        81.000000"
      ]
     },
     "execution_count": 19,
     "metadata": {},
     "output_type": "execute_result"
    }
   ],
   "source": [
    "sample_had_procedure.describe()"
   ]
  },
  {
   "cell_type": "markdown",
   "metadata": {},
   "source": [
    "# Histogram of Patients That Had At Least One Procedure Done\n",
    "The histogram shows a non normalized distribution of data or number of procedures.  Here the data is not clustered around the mean, there is a rather broad variance with the standard \n",
    "deviation plus or minus the mean being rather broad.  Here the mean is not a measure of central tendency and the standard\n",
    "deviation tells us less information than in a normalized plot.  There does appear to be a trend though with the data being\n",
    "skewed toward the fact that most patients only had one procedure done while at the hospital. "
   ]
  },
  {
   "cell_type": "code",
   "execution_count": 20,
   "metadata": {
    "collapsed": false,
    "scrolled": true
   },
   "outputs": [
    {
     "data": {
      "image/png": "[encoded data removed]",
      "text/plain": [
       "<matplotlib.figure.Figure at 0xaa2fe10>"
      ]
     },
     "metadata": {},
     "output_type": "display_data"
    }
   ],
   "source": [
    "sample_had_procedure['num_procedures'].hist()\n",
    "plt.axvline(sample_had_procedure['num_procedures'].mean(), color='r', linestyle = 'dashed', linewidth = 4)\n",
    "plt.axvline(sample_had_procedure['num_procedures'].mean() + sample_had_procedure['num_procedures'].std(), color='k', linestyle = 'dashed', linewidth = 2)\n",
    "plt.axvline(sample_had_procedure['num_procedures'].mean() - sample_had_procedure['num_procedures'].std(), color='k', linestyle = 'dashed', linewidth = 2)\n",
    "plt.title(\"Histogram\")\n",
    "plt.xlabel('Number of Procedures Performed')\n",
    "plt.ylabel('Frequency of Data Point')\n",
    "plt.show()###sub data set of patients that had at least one procedure"
   ]
  },
  {
   "cell_type": "markdown",
   "metadata": {},
   "source": [
    "# Histogram of Patients That Had At Least One Procedure and Time In Hospital:\n",
    "Here the data is not normalized but the mean is closer to the center of the cluster of data.  The standard deviation \n",
    "shows a rather broad variance in the data with the data being skewed toward a lower amount of time spent in the hospital.\n",
    "Although the data is skewed and not normalized the mean was a slightly better measure of central tendency than our original\n",
    "data set.  I decided to calculate the difference in the means between sample population and the original population for \n",
    "the variable 'time in hospital' and then further calculate a t test and p value for the data sets and interpret the \n",
    "meaning.\n"
   ]
  },
  {
   "cell_type": "code",
   "execution_count": 21,
   "metadata": {
    "collapsed": false,
    "scrolled": true
   },
   "outputs": [
    {
     "data": {
      "text/plain": [
       "<matplotlib.text.Text at 0xae85b70>"
      ]
     },
     "execution_count": 21,
     "metadata": {},
     "output_type": "execute_result"
    },
    {
     "data": {
      "image/png": "[encoded data removed]",
      "text/plain": [
       "<matplotlib.figure.Figure at 0xae368d0>"
      ]
     },
     "metadata": {},
     "output_type": "display_data"
    }
   ],
   "source": [
    "sample_had_procedure['time_in_hospital'].hist()\n",
    "plt.axvline(sample_had_procedure['time_in_hospital'].mean(), color='r', linestyle = 'dashed', linewidth = 4)\n",
    "plt.axvline(sample_had_procedure['time_in_hospital'].mean() + sample_had_procedure['time_in_hospital'].std(), color='k', linestyle = 'dashed', linewidth = 2)\n",
    "plt.axvline(sample_had_procedure['time_in_hospital'].mean() - sample_had_procedure['time_in_hospital'].std(), color='k', linestyle = 'dashed', linewidth = 2)\n",
    "plt.title(\"Histogram\")\n",
    "plt.xlabel('Time in Hospital')\n",
    "plt.ylabel('Frequency of Data Point')"
   ]
  },
  {
   "cell_type": "code",
   "execution_count": 22,
   "metadata": {
    "collapsed": false
   },
   "outputs": [
    {
     "name": "stdout",
     "output_type": "stream",
     "text": [
      "0.5138364035495737\n"
     ]
    }
   ],
   "source": [
    "###calculating the difference in mean values here between sample and main group\n",
    "diff_in_means = sample_had_procedure['time_in_hospital'].mean() - hospital_readmit['time_in_hospital'].mean()\n",
    "print(diff_in_means)"
   ]
  },
  {
   "cell_type": "code",
   "execution_count": 23,
   "metadata": {
    "collapsed": false
   },
   "outputs": [
    {
     "name": "stdout",
     "output_type": "stream",
     "text": [
      "19.109547854295094\n"
     ]
    }
   ],
   "source": [
    "###calculating sum of standard deviations\n",
    "sum_stds = sample_had_procedure['time_in_hospital'].std()**2 + hospital_readmit['time_in_hospital'].std() ** 2\n",
    "print(sum_stds)                      "
   ]
  },
  {
   "cell_type": "code",
   "execution_count": 24,
   "metadata": {
    "collapsed": false
   },
   "outputs": [
    {
     "name": "stdout",
     "output_type": "stream",
     "text": [
      "156880\n"
     ]
    }
   ],
   "source": [
    "###need this value to calculate my t value\n",
    "sum_size = len(sample_had_procedure['time_in_hospital']) + len(hospital_readmit['time_in_hospital'])\n",
    "print(sum_size)                     "
   ]
  },
  {
   "cell_type": "code",
   "execution_count": 25,
   "metadata": {
    "collapsed": false
   },
   "outputs": [
    {
     "name": "stdout",
     "output_type": "stream",
     "text": [
      "0.011036755341793122\n"
     ]
    }
   ],
   "source": [
    "###calculating the standard error\n",
    "stand_error = (sum_stds/sum_size) **0.5\n",
    "print(stand_error)                              "
   ]
  },
  {
   "cell_type": "code",
   "execution_count": 26,
   "metadata": {
    "collapsed": false
   },
   "outputs": [
    {
     "name": "stdout",
     "output_type": "stream",
     "text": [
      "46.55683555870974\n"
     ]
    }
   ],
   "source": [
    "t_value_sample_procedures = diff_in_means/stand_error\n",
    "print(t_value_sample_procedures)"
   ]
  },
  {
   "cell_type": "markdown",
   "metadata": {},
   "source": [
    "# Resulting T Value Time In Hospital:\n",
    "The t value of 46.55683555870974 above was a little higher than I expected.  This would indicate a difference in the means in relationship to the variance and standard deviation.  So, it may be worth exploring further the number of procedures \n",
    "performed as it correlates to the time in the hospital. This is where I would look at exponential or log based functions with a time element. "
   ]
  },
  {
   "cell_type": "code",
   "execution_count": 27,
   "metadata": {
    "collapsed": true
   },
   "outputs": [],
   "source": [
    "###importing from scipy to allow calculation of p value below\n",
    "from scipy.stats import t   "
   ]
  },
  {
   "cell_type": "code",
   "execution_count": 28,
   "metadata": {
    "collapsed": false
   },
   "outputs": [
    {
     "name": "stdout",
     "output_type": "stream",
     "text": [
      "0.00683596608029\n"
     ]
    }
   ],
   "source": [
    "###Calculating the p value\n",
    "p_value_sample = t.sf(t_value_sample_procedures, 1)\n",
    "print(p_value_sample)"
   ]
  },
  {
   "cell_type": "markdown",
   "metadata": {
    "collapsed": true
   },
   "source": [
    "### The p value of .68% \n",
    "The p value shows that there is a .68% chance that the difference in mean values that we saw in time in hospital for patients that had at least one procedure performed was due to random occurence or chance.  So this variable may indeed be worth a second look."
   ]
  },
  {
   "cell_type": "markdown",
   "metadata": {},
   "source": [
    "# Proposal For Further Investigation:\n",
    "\n",
    "In conclusion, the two variables: number of medications and number of lab procedures performed showed the most normalized\n",
    "data distributions.  The number of medications had the tightest cluster of data with the most normalized distribution of \n",
    "data at 76% of values within plus or minus one standard deviation of the mean. The number of medications also had the highest correlation with increased hospital stay in the trend lines, 2 dimensional histogram, and box plots.  I would ask if the number of medications\n",
    "increased the probability of an increased hospital stay and increased the likelihood of readmission to the hospital. I would start with a t test and p value for the number of medications variable and then use more advanced statistical analysis to calculate  probability values for normalized data sets. What would be the probability for a longer hospital stay and the probability for readmission to the hospital knowing a certain number of medications were given during the hospital stay? \n",
    "\n",
    "My second question would look at the number of lab procedures performed and again if it increased the hospital stay and increased the likelihood of readmission to the hospital.  I would utilize more advanced statistical probability techniques for normalized data to make more accurate predictions, measure correlation to a high degree, and make recommendations to management on how they might improve their systems and processes to obtain better\n",
    "patient outcomes: reduced hospital stays and reduced patient readmissions.\n",
    "\n",
    "Thirdly, I would want to utilize statistical methods that could analyze non normalized data sets with a time decay element that could help predict outcomes even in non normalized data like in our example presented with the variables that showed non normalized data and decay with time and how it related to the time in the hospital and hospital readmission rates.  \n",
    "\n",
    "Lastly, I would involve hospital leadership to obtain specific dependent variables that may be related to especially the number of medications and the number of lab procedures during a hospital stay.  I would also find out which data and details surrounding that data related to those dependent variables is accessible currently and trackable on a per patient and hourly basis. "
   ]
  },
  {
   "cell_type": "code",
   "execution_count": null,
   "metadata": {
    "collapsed": true
   },
   "outputs": [],
   "source": []
  }
 ],
 "metadata": {
  "kernelspec": {
   "display_name": "Python 3",
   "language": "python",
   "name": "python3"
  },
  "language_info": {
   "codemirror_mode": {
    "name": "ipython",
    "version": 3
   },
   "file_extension": ".py",
   "mimetype": "text/x-python",
   "name": "python",
   "nbconvert_exporter": "python",
   "pygments_lexer": "ipython3",
   "version": "3.6.0"
  }
 },
 "nbformat": 4,
 "nbformat_minor": 2
}
